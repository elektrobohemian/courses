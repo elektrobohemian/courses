{
 "cells": [
  {
   "cell_type": "markdown",
   "metadata": {},
   "source": [
    "# Basic Evaluation Metrics - Extended Examples\n",
    "* Download [Anaconda with Python 3.6](https://www.anaconda.com/download) to install a nearly complete Python enviroment for data science projects\n",
    "* Install [Keras: The Python Deep Learning Library](https://keras.io/) and other missing packages with the following command: ```conda install keras```\n",
    "* Start your local Jupyter instance with ```jupyter notebook```\n",
    "\n",
    "If you cannot see line numbers press ```Shift+L```to switch them on or check the ```View``` menu."
   ]
  },
  {
   "cell_type": "code",
   "execution_count": 243,
   "metadata": {},
   "outputs": [],
   "source": [
    "# The %... is an iPython thing, and is not part of the Python language.\n",
    "# In this case we're just telling the plotting library to draw things on\n",
    "# the notebook, instead of on a separate window.\n",
    "%matplotlib inline\n",
    "\n",
    "# the import statements load differnt Python packages that we need for the tutorial\n",
    "# See all the \"as ...\" contructs? They're just aliasing the package names.\n",
    "# That way we can call methods like plt.plot() instead of matplotlib.pyplot.plot().\n",
    "import matplotlib.pyplot as plt # a package for plotting\n",
    "import matplotlib.axes as ax # a package for plotting\n",
    "import seaborn as sns # a package for simple styling of the plots etc.\n",
    "import numpy as np # a package for scientific computing\n",
    "sns.set_style(\"whitegrid\")\n",
    "sns.set_context(\"notebook\")\n",
    "\n",
    "from math import log # import of the log function used later"
   ]
  },
  {
   "cell_type": "code",
   "execution_count": 244,
   "metadata": {},
   "outputs": [],
   "source": [
    "# an array of document names (numbers are used to simplify programming)\n",
    "documents=[1,2,3,4,5,6,7,8,9,10]\n",
    "# the associated relevances, the indices of documents and relevances match! e.g. document 1 has relevance score 0\n",
    "# relevance ranges from 0 (irrelevant) to 3 (highly relevant)\n",
    "relevances=[0,1,2,3,2,0,0,0,0,3]"
   ]
  },
  {
   "cell_type": "code",
   "execution_count": 245,
   "metadata": {
    "scrolled": true
   },
   "outputs": [
    {
     "data": {
      "text/plain": [
       "<matplotlib.collections.PathCollection at 0x1a20f0d550>"
      ]
     },
     "execution_count": 245,
     "metadata": {},
     "output_type": "execute_result"
    },
    {
     "data": {
      "image/png": "[encoded data removed]",
      "text/plain": [
       "<Figure size 432x288 with 1 Axes>"
      ]
     },
     "metadata": {},
     "output_type": "display_data"
    }
   ],
   "source": [
    "# create a plot of all documents to show their relevance\n",
    "plt.xlabel(\"Document ID\")\n",
    "plt.ylabel(\"Relevance\")\n",
    "plt.scatter(x=documents,y=relevances)"
   ]
  },
  {
   "attachments": {},
   "cell_type": "markdown",
   "metadata": {},
   "source": [
    "## Precision, Recall and F-Score\n",
    "\n",
    "In the next cell, we will define some functions that we will use for the calculation of\n",
    "$$\n",
    "Precision=\\frac{|tp|}{|tp|+|fp|}\\equiv\\frac{|\\mbox{relevant elements in result}|}{|\\mbox{elements in result}|},\n",
    "$$\n",
    "$$\n",
    "Recall=\\frac{|tp|}{|tp|+|fn|}\\equiv\\frac{|\\mbox{relevant elements in result}|}{|\\mbox{relevant elements in collection}|}\\mbox{, and}\n",
    "$$\n",
    "$$\n",
    "F-score=\\frac{2\\cdot Precision\\cdot Recall}{Precision+Recall}\n",
    "$$."
   ]
  },
  {
   "cell_type": "code",
   "execution_count": 246,
   "metadata": {},
   "outputs": [],
   "source": [
    "# count the number of relevant documents in a result\n",
    "# 'def' indicates a function\n",
    "def relevantInResult(result):\n",
    "    count=0\n",
    "    for index in result:\n",
    "        if relevances[index]>0:\n",
    "            count+=1\n",
    "    return count\n",
    "\n",
    "# count the number of relevant documents in the collection\n",
    "def relevantInCollection():\n",
    "    count=0\n",
    "    for relevance in relevances:\n",
    "        if relevance>0:\n",
    "            count+=1\n",
    "    return count"
   ]
  },
  {
   "cell_type": "markdown",
   "metadata": {},
   "source": [
    "Given a sample rank of documents 1, 2, 3, and 4, we will calculate the metrics."
   ]
  },
  {
   "cell_type": "code",
   "execution_count": 247,
   "metadata": {},
   "outputs": [
    {
     "name": "stdout",
     "output_type": "stream",
     "text": [
      "Result Order: 1;2;3;4;\n",
      "Number of relevant documents in the result: 3\n",
      "Precision: 0.75\n",
      "Recall: 0.60\n",
      "F-score: 0.67\n"
     ]
    }
   ],
   "source": [
    "# a sample rank, please note that you have to use indices to the documents array (see above)\n",
    "resultIndices=[0,1,2,3]\n",
    "\n",
    "order=\"\"\n",
    "for d in resultIndices:\n",
    "    order+=str(documents[d])+\";\"\n",
    "print(\"Result Order: \"+order)\n",
    "\n",
    "print(\"Number of relevant documents in the result: \"+str(relevantInResult(resultIndices)))\n",
    "precision=float(relevantInResult(resultIndices))/len(resultIndices)\n",
    "print(\"Precision: %.2f\"%precision)\n",
    "recall=float(relevantInResult(resultIndices))/relevantInCollection()\n",
    "print(\"Recall: %.2f\"%recall)\n",
    "fscore=2*precision*recall/(precision+recall)\n",
    "print(\"F-score: %.2f\"%fscore)"
   ]
  },
  {
   "cell_type": "markdown",
   "metadata": {},
   "source": [
    "If we add more documents to the rank, we will see how precision drops while recall stays the same. However, f-score indicates that the performance becomes weaker."
   ]
  },
  {
   "cell_type": "code",
   "execution_count": 248,
   "metadata": {},
   "outputs": [
    {
     "name": "stdout",
     "output_type": "stream",
     "text": [
      "Result Order: 1;2;3;4;6;7;8;\n",
      "Number of relevant documents in the result: 3\n",
      "Precision: 0.43\n",
      "Recall: 0.60\n",
      "F-score: 0.50\n"
     ]
    }
   ],
   "source": [
    "# a sample ranke, please note that you have to use indices to the documents array (see above)\n",
    "resultIndices=[0,1,2,3,5,6,7]\n",
    "\n",
    "order=\"\"\n",
    "for d in resultIndices:\n",
    "    order+=str(documents[d])+\";\"\n",
    "print(\"Result Order: \"+order)\n",
    "\n",
    "print(\"Number of relevant documents in the result: \"+str(relevantInResult(resultIndices)))\n",
    "precision=float(relevantInResult(resultIndices))/len(resultIndices)\n",
    "print(\"Precision: %.2f\"%precision)\n",
    "recall=float(relevantInResult(resultIndices))/relevantInCollection()\n",
    "print(\"Recall: %.2f\"%recall)\n",
    "fscore=2*precision*recall/(precision+recall)\n",
    "print(\"F-score: %.2f\"%fscore)"
   ]
  },
  {
   "cell_type": "markdown",
   "metadata": {},
   "source": [
    "If our rank contains less relevant documents, we will see how precicision and recall decrease."
   ]
  },
  {
   "cell_type": "code",
   "execution_count": 249,
   "metadata": {},
   "outputs": [
    {
     "name": "stdout",
     "output_type": "stream",
     "text": [
      "Result Order: 1;2;3;6;\n",
      "Number of relevant documents in the result: 2\n",
      "Precision: 0.50\n",
      "Recall: 0.40\n",
      "F-score: 0.44\n"
     ]
    }
   ],
   "source": [
    "# a sample rank, please note that you have to use indices to the documents array (see above)\n",
    "resultIndices=[0,1,2,5]\n",
    "\n",
    "order=\"\"\n",
    "for d in resultIndices:\n",
    "    order+=str(documents[d])+\";\"\n",
    "print(\"Result Order: \"+order)\n",
    "\n",
    "print(\"Number of relevant documents in the result: \"+str(relevantInResult(resultIndices)))\n",
    "precision=float(relevantInResult(resultIndices))/len(resultIndices)\n",
    "print(\"Precision: %.2f\"%precision)\n",
    "recall=float(relevantInResult(resultIndices))/relevantInCollection()\n",
    "print(\"Recall: %.2f\"%recall)\n",
    "fscore=2*precision*recall/(precision+recall)\n",
    "print(\"F-score: %.2f\"%fscore)"
   ]
  },
  {
   "cell_type": "code",
   "execution_count": 250,
   "metadata": {},
   "outputs": [
    {
     "name": "stdout",
     "output_type": "stream",
     "text": [
      "Result Order: 1;2;3;6;8;\n",
      "Number of relevant documents in the result: 2\n",
      "Precision: 0.40\n",
      "Recall: 0.40\n",
      "F-score: 0.40\n"
     ]
    }
   ],
   "source": [
    "resultIndices=[0,1,2,5,7]\n",
    "\n",
    "order=\"\"\n",
    "for d in resultIndices:\n",
    "    order+=str(documents[d])+\";\"\n",
    "print(\"Result Order: \"+order)\n",
    "\n",
    "print(\"Number of relevant documents in the result: \"+str(relevantInResult(resultIndices)))\n",
    "precision=float(relevantInResult(resultIndices))/len(resultIndices)\n",
    "print(\"Precision: %.2f\"%precision)\n",
    "recall=float(relevantInResult(resultIndices))/relevantInCollection()\n",
    "print(\"Recall: %.2f\"%recall)\n",
    "fscore=2*precision*recall/(precision+recall)\n",
    "print(\"F-score: %.2f\"%fscore)"
   ]
  },
  {
   "cell_type": "code",
   "execution_count": 251,
   "metadata": {},
   "outputs": [
    {
     "name": "stdout",
     "output_type": "stream",
     "text": [
      "Result Order: 1;2;3;6;8;9;\n",
      "Number of relevant documents in the result: 2\n",
      "Precision: 0.33\n",
      "Recall: 0.40\n",
      "F-score: 0.36\n"
     ]
    }
   ],
   "source": [
    "resultIndices=[0,1,2,5,7,8]\n",
    "\n",
    "order=\"\"\n",
    "for d in resultIndices:\n",
    "    order+=str(documents[d])+\";\"\n",
    "print(\"Result Order: \"+order)\n",
    "\n",
    "print(\"Number of relevant documents in the result: \"+str(relevantInResult(resultIndices)))\n",
    "precision=float(relevantInResult(resultIndices))/len(resultIndices)\n",
    "print(\"Precision: %.2f\"%precision)\n",
    "recall=float(relevantInResult(resultIndices))/relevantInCollection()\n",
    "print(\"Recall: %.2f\"%recall)\n",
    "fscore=2*precision*recall/(precision+recall)\n",
    "print(\"F-score: %.2f\"%fscore)"
   ]
  },
  {
   "attachments": {},
   "cell_type": "markdown",
   "metadata": {},
   "source": [
    "## nDCG – A More Advanced Metric"
   ]
  },
  {
   "cell_type": "markdown",
   "metadata": {},
   "source": [
    "The next cell prepares functions to calculate \n",
    "\n",
    "$$\n",
    "CG[i]=\\begin{cases} G[1], & \\mbox{if } i=1 \\\\ CG[i-1] + G[i], & \\mbox{ otherwise.}\\end{cases},\n",
    "$$\n",
    "$$\n",
    "DCG[i]=\\begin{cases} CG[i], & \\mbox{if } i<b \\\\ DCG[i-1] + \\frac{G[i]}{\\log_{b}i}, & \\mbox{if } i\\geq b.\\end{cases}, \\mbox{and}\n",
    "$$\n",
    "$$\n",
    "nDCG[i]=\\frac{DCG[i]}{iGV[i]}\n",
    "$$.\n",
    "\n",
    "Additionally, it prepares a function for visualizing the results."
   ]
  },
  {
   "cell_type": "code",
   "execution_count": 252,
   "metadata": {},
   "outputs": [],
   "source": [
    "# the indices refer to the relevances array (see above)\n",
    "# the ideal rank indices are the documents sorted by decreasing relevance\n",
    "idealRankIndices=[3,9,2,4,1,0,5,6,7,8]\n",
    "\n",
    "# compute the cummulative gain of a result\n",
    "def calculateCG(result):\n",
    "    cg=0\n",
    "    for index in result:\n",
    "        cg+=relevances[index]\n",
    "    return cg\n",
    "\n",
    "# compute the discounted cummulative gain of a result\n",
    "def calculateDCG(result):\n",
    "    dcg=0\n",
    "    pos=0\n",
    "    logbase=2\n",
    "    for index in result:\n",
    "        if pos>=logbase:\n",
    "            dcg+=relevances[index]/log(pos,logbase)\n",
    "            pos+=1\n",
    "        else:\n",
    "            pos+=1\n",
    "            dcg+=relevances[index]\n",
    "    return dcg\n",
    "\n",
    "# compute the normalized cummulative gain of a result\n",
    "def calculateNDCG(result,idealRank):\n",
    "    sampledcg=calculateDCG(result)\n",
    "    idealdcg=calculateDCG(idealRank)\n",
    "    return sampledcg/idealdcg\n",
    "\n",
    "# visualize the results\n",
    "def visualizeResults(resultIndices):\n",
    "    order=\"\"\n",
    "    relHist=[0] # we initialize the array with a leading 0 as a quick fix for the barchart plot below\n",
    "    relDeco=[]\n",
    "    for d in resultIndices:\n",
    "        order+=str(documents[d])+\" (\"+str(relevances[d])+\"); \"\n",
    "        relHist.append(relevances[d])\n",
    "        if relevances[d]>0:\n",
    "            relDeco.append(\"+\")\n",
    "        else:\n",
    "            relDeco.append(\"0\")\n",
    "    print(\"Result Order: \"+order)\n",
    "\n",
    "    print(\"CG for rank with %i results: %.3f\"%(len(resultIndices),calculateCG(resultIndices)))\n",
    "    print(\"DCG for rank with %i results: %.3f\"%(len(resultIndices),calculateDCG(resultIndices)))\n",
    "    print(\"nDCG for rank with %i results: %.3f\"%(len(resultIndices),calculateNDCG(resultIndices,idealRankIndices)))\n",
    "    print(\"Number of relevant documents in the result: \"+str(relevantInResult(resultIndices)))\n",
    "\n",
    "\n",
    "    plt.xlabel(\"Rank of document with relevance...\")\n",
    "    plt.ylabel(\"Relevance\")\n",
    "    plt.yticks([0,1,2,3])\n",
    "    plt.xlim(0,len(resultIndices)+1)\n",
    "    \n",
    "    #plt.plot(relHist,'*')\n",
    "    plt.bar(np.arange(0, len(resultIndices)+1),relHist)\n",
    "\n",
    "    plt.savefig(\"test.pdf\",format=\"pdf\")\n",
    "    plt.show()"
   ]
  },
  {
   "cell_type": "markdown",
   "metadata": {},
   "source": [
    "Now we demonstrate the impact of different result ranks on the different metrics.\n",
    "\n",
    "The sample clearly illustrates that DCG penalizes lately retrieved relevant documents while CG only sums up the relevance scores."
   ]
  },
  {
   "cell_type": "code",
   "execution_count": 253,
   "metadata": {},
   "outputs": [
    {
     "name": "stdout",
     "output_type": "stream",
     "text": [
      "Result Order: 1 (0); 2 (1); 3 (2); 6 (0); 8 (0); 9 (0); 10 (3); \n",
      "CG for rank with 7 results: 6.000\n",
      "DCG for rank with 7 results: 4.161\n",
      "nDCG for rank with 7 results: 0.426\n",
      "Number of relevant documents in the result: 3\n"
     ]
    },
    {
     "data": {
      "image/png": "[encoded data removed]",
      "text/plain": [
       "<Figure size 432x288 with 1 Axes>"
      ]
     },
     "metadata": {},
     "output_type": "display_data"
    }
   ],
   "source": [
    "resultIndices=[0,1,2,5,7,8,9]\n",
    "\n",
    "visualizeResults(resultIndices)"
   ]
  },
  {
   "cell_type": "code",
   "execution_count": 254,
   "metadata": {},
   "outputs": [
    {
     "name": "stdout",
     "output_type": "stream",
     "text": [
      "Result Order: 1 (0); 2 (1); 3 (2); 6 (0); 8 (0); 9 (0); 10 (3); 5 (2); \n",
      "CG for rank with 8 results: 8.000\n",
      "DCG for rank with 8 results: 4.873\n",
      "nDCG for rank with 8 results: 0.499\n",
      "Number of relevant documents in the result: 4\n"
     ]
    },
    {
     "data": {
      "image/png": "[encoded data removed]",
      "text/plain": [
       "<Figure size 432x288 with 1 Axes>"
      ]
     },
     "metadata": {},
     "output_type": "display_data"
    }
   ],
   "source": [
    "resultIndices=[0,1,2,5,7,8,9,4]\n",
    "\n",
    "visualizeResults(resultIndices)"
   ]
  },
  {
   "cell_type": "code",
   "execution_count": 255,
   "metadata": {},
   "outputs": [
    {
     "name": "stdout",
     "output_type": "stream",
     "text": [
      "Result Order: 1 (0); 2 (1); 3 (2); 6 (0); 8 (0); 9 (0); 5 (2); 10 (3); \n",
      "CG for rank with 8 results: 8.000\n",
      "DCG for rank with 8 results: 4.842\n",
      "nDCG for rank with 8 results: 0.496\n",
      "Number of relevant documents in the result: 4\n"
     ]
    },
    {
     "data": {
      "image/png": "[encoded data removed]",
      "text/plain": [
       "<Figure size 432x288 with 1 Axes>"
      ]
     },
     "metadata": {},
     "output_type": "display_data"
    }
   ],
   "source": [
    "resultIndices=[0,1,2,5,7,8,4,9]\n",
    "\n",
    "visualizeResults(resultIndices)"
   ]
  },
  {
   "cell_type": "code",
   "execution_count": null,
   "metadata": {},
   "outputs": [],
   "source": []
  },
  {
   "cell_type": "markdown",
   "metadata": {},
   "source": [
    "\n"
   ]
  }
 ],
 "metadata": {
  "kernelspec": {
   "display_name": "Python 3",
   "language": "python",
   "name": "python3"
  },
  "language_info": {
   "codemirror_mode": {
    "name": "ipython",
    "version": 3
   },
   "file_extension": ".py",
   "mimetype": "text/x-python",
   "name": "python",
   "nbconvert_exporter": "python",
   "pygments_lexer": "ipython3",
   "version": "3.6.6"
  }
 },
 "nbformat": 4,
 "nbformat_minor": 2
}
