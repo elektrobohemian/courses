{
 "cells": [
  {
   "cell_type": "code",
   "execution_count": 15,
   "metadata": {},
   "outputs": [],
   "source": [
    "# The %... is an iPython thing, and is not part of the Python language.\n",
    "# In this case we're just telling the plotting library to draw things on\n",
    "# the notebook, instead of on a separate window.\n",
    "%matplotlib inline\n",
    "\n",
    "import matplotlib.pyplot as plt\n",
    "import seaborn as sns\n",
    "sns.set_style(\"whitegrid\")\n",
    "sns.set_context(\"notebook\")"
   ]
  },
  {
   "cell_type": "code",
   "execution_count": 52,
   "metadata": {},
   "outputs": [],
   "source": [
    "# an array of document names (number to simplify programming)\n",
    "documents=[1,2,3,4,5,6,7,8,9,10]\n",
    "# the associated relevances, the indices of documents and relevances match!\n",
    "relevances=[0,1,2,3,2,0,0,0,0,3]"
   ]
  },
  {
   "cell_type": "code",
   "execution_count": 53,
   "metadata": {},
   "outputs": [
    {
     "data": {
      "text/plain": [
       "<matplotlib.collections.PathCollection at 0x1a20035d68>"
      ]
     },
     "execution_count": 53,
     "metadata": {},
     "output_type": "execute_result"
    },
    {
     "data": {
      "image/png": "[encoded data removed]",
      "text/plain": [
       "<Figure size 432x288 with 1 Axes>"
      ]
     },
     "metadata": {},
     "output_type": "display_data"
    }
   ],
   "source": [
    "plt.xlabel(\"Document ID\")\n",
    "plt.ylabel(\"Relevance\")\n",
    "plt.scatter(x=documents,y=relevances)"
   ]
  },
  {
   "cell_type": "code",
   "execution_count": 54,
   "metadata": {},
   "outputs": [],
   "source": [
    "# count the number of relevant documents in a result\n",
    "def relevantInResult(result):\n",
    "    count=0\n",
    "    for index in result:\n",
    "        if relevances[index]>0:\n",
    "            count+=1\n",
    "    return count\n",
    "\n",
    "def relevantInCollection():\n",
    "    count=0\n",
    "    for relevance in relevances:\n",
    "        if relevance>0:\n",
    "            count+=1\n",
    "    return count"
   ]
  },
  {
   "cell_type": "code",
   "execution_count": 68,
   "metadata": {},
   "outputs": [
    {
     "name": "stdout",
     "output_type": "stream",
     "text": [
      "Result Order: 1;2;3;4;\n",
      "Number of relevant documents in the result: 3\n",
      "Precision: 0.75\n",
      "Recall: 0.60\n",
      "F-score: 0.67\n"
     ]
    }
   ],
   "source": [
    "# a sample result, please note that you have to use indices to the documents array (see above)\n",
    "resultIndices=[0,1,2,3]\n",
    "\n",
    "order=\"\"\n",
    "for d in resultIndices:\n",
    "    order+=str(documents[d])+\";\"\n",
    "print(\"Result Order: \"+order)\n",
    "\n",
    "print(\"Number of relevant documents in the result: \"+str(relevantInResult(resultIndices)))\n",
    "precision=float(relevantInResult(resultIndices))/len(resultIndices)\n",
    "print(\"Precision: %.2f\"%precision)\n",
    "recall=float(relevantInResult(resultIndices))/relevantInCollection()\n",
    "print(\"Recall: %.2f\"%recall)\n",
    "fscore=2*precision*recall/(precision+recall)\n",
    "print(\"F-score: %.2f\"%fscore)"
   ]
  },
  {
   "cell_type": "code",
   "execution_count": 69,
   "metadata": {},
   "outputs": [
    {
     "name": "stdout",
     "output_type": "stream",
     "text": [
      "Result Order: 1;2;3;4;6;7;8;\n",
      "Number of relevant documents in the result: 3\n",
      "Precision: 0.43\n",
      "Recall: 0.60\n",
      "F-score: 0.50\n"
     ]
    }
   ],
   "source": [
    "resultIndices=[0,1,2,3,5,6,7]\n",
    "\n",
    "order=\"\"\n",
    "for d in resultIndices:\n",
    "    order+=str(documents[d])+\";\"\n",
    "print(\"Result Order: \"+order)\n",
    "\n",
    "print(\"Number of relevant documents in the result: \"+str(relevantInResult(resultIndices)))\n",
    "precision=float(relevantInResult(resultIndices))/len(resultIndices)\n",
    "print(\"Precision: %.2f\"%precision)\n",
    "recall=float(relevantInResult(resultIndices))/relevantInCollection()\n",
    "print(\"Recall: %.2f\"%recall)\n",
    "fscore=2*precision*recall/(precision+recall)\n",
    "print(\"F-score: %.2f\"%fscore)"
   ]
  },
  {
   "cell_type": "code",
   "execution_count": null,
   "metadata": {},
   "outputs": [],
   "source": []
  }
 ],
 "metadata": {
  "kernelspec": {
   "display_name": "Python 3",
   "language": "python",
   "name": "python3"
  },
  "language_info": {
   "codemirror_mode": {
    "name": "ipython",
    "version": 3
   },
   "file_extension": ".py",
   "mimetype": "text/x-python",
   "name": "python",
   "nbconvert_exporter": "python",
   "pygments_lexer": "ipython3",
   "version": "3.6.6"
  }
 },
 "nbformat": 4,
 "nbformat_minor": 2
}
