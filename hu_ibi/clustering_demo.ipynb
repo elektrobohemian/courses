{
 "cells": [
  {
   "cell_type": "markdown",
   "metadata": {},
   "source": [
    "## Setup of the Environment\n",
    "\n",
    "The only missing package is most likely Jellyfish, which provides support for string matching and offers such phonetic distance functions that we will need below. For further details, see the [Jellyfish homepage](https://pypi.python.org/pypi/jellyfish). The package can be installed by running the following command."
   ]
  },
  {
   "cell_type": "code",
   "execution_count": 1,
   "metadata": {},
   "outputs": [
    {
     "name": "stdout",
     "output_type": "stream",
     "text": [
      "Requirement already satisfied: jellyfish in /Users/david/opt/anaconda3/lib/python3.7/site-packages (0.8.2)\r\n"
     ]
    }
   ],
   "source": [
    "!pip install jellyfish"
   ]
  },
  {
   "cell_type": "code",
   "execution_count": 2,
   "metadata": {},
   "outputs": [],
   "source": [
    "# The %... is an iPython thing, and is not part of the Python language.\n",
    "# In this case we're just telling the plotting library to draw things on\n",
    "# the notebook, instead of on a separate window.\n",
    "%matplotlib inline\n",
    "\n",
    "# See all the \"as ...\" contructs? They're just aliasing the package names.\n",
    "# That way we can call methods like plt.plot() instead of matplotlib.pyplot.plot().\n",
    "import numpy as np\n",
    "import scipy as sp\n",
    "import matplotlib as mpl\n",
    "import matplotlib.cm as cm\n",
    "import matplotlib.pyplot as plt\n",
    "import pandas as pd\n",
    "import time\n",
    "pd.set_option('display.width', 500)\n",
    "pd.set_option('display.max_columns', 100)\n",
    "pd.set_option('display.notebook_repr_html', True)\n",
    "import seaborn as sns\n",
    "sns.set_style(\"whitegrid\")\n",
    "sns.set_context(\"poster\")\n",
    "\n",
    "import itertools\n",
    "import os.path\n",
    "from datetime import datetime # for time measurement\n",
    "import sys\n",
    "import os\n",
    "import pickle\n",
    "import gzip\n",
    "import math\n",
    "import codecs\n",
    "\n",
    "from jellyfish import jaro_distance, jaro_winkler, hamming_distance, levenshtein_distance\n",
    "import scipy.cluster.hierarchy as scipycluster\n",
    "from sklearn.feature_extraction.text import TfidfVectorizer\n",
    "\n",
    "from scipy.spatial import distance\n",
    "# import the k-means algorithm\n",
    "from sklearn.cluster import KMeans, MiniBatchKMeans\n",
    "from sklearn.metrics import pairwise_distances_argmin,pairwise_distances_argmin_min, pairwise_distances\n",
    "from sklearn.metrics.pairwise import euclidean_distances\n",
    "\n",
    "def printLog(text):\n",
    "    now=str(datetime.now())\n",
    "    print(\"[\"+now+\"]\\t\"+text)\n",
    "    # forces to output the result of the print command immediately, see: http://stackoverflow.com/questions/230751/how-to-flush-output-of-python-print\n",
    "    sys.stdout.flush()\n",
    "    \n",
    "def pickleCompress(fileName,pickledObject):\n",
    "    printLog(\"Pickling to '%s'\" %fileName)\n",
    "    f = gzip.open(fileName,'wb')\n",
    "    pickle.dump(pickledObject,f)\n",
    "    f.close()\n",
    "    printLog(\"Pickling done.\")\n",
    "    \n",
    "def pickleDecompress(fileName):\n",
    "    #restore the object\n",
    "    printLog(\"Depickling from '%s'\" %fileName)\n",
    "    f = gzip.open(fileName,'rb')\n",
    "    pickledObject = pickle.load(f)\n",
    "    f.close()\n",
    "    printLog(\"Depickling done.\")\n",
    "    return pickledObject"
   ]
  },
  {
   "cell_type": "markdown",
   "metadata": {},
   "source": [
    "## Simple Clustering Example"
   ]
  },
  {
   "cell_type": "code",
   "execution_count": 3,
   "metadata": {},
   "outputs": [
    {
     "name": "stdout",
     "output_type": "stream",
     "text": [
      "['Berlin', 'Balin', 'Cölln', 'Köln']\n",
      "Number of words: 4\n",
      "0:\t Berlin\n",
      "1:\t Balin\n",
      "2:\t Cölln\n",
      "3:\t Köln\n"
     ]
    }
   ],
   "source": [
    "words = u'Berlin Balin Cölln Köln'.split()\n",
    "print(words)\n",
    "\n",
    "print(\"Number of words: %i\" % len(words))\n",
    "for i,val in enumerate(words):\n",
    "    print(str(i)+\":\\t \"+str(val))"
   ]
  },
  {
   "cell_type": "markdown",
   "metadata": {},
   "source": [
    "One way to do this is to use the __jaro\\_distance()__ provided by the Jellyfish pacakge (see above).\n",
    "Unfortunately, the name of the function is quite misleading as it technically computes a similarity as illustrated below. A distance between two equal strings would be 0..."
   ]
  },
  {
   "cell_type": "code",
   "execution_count": 4,
   "metadata": {},
   "outputs": [
    {
     "data": {
      "text/plain": [
       "1.0"
      ]
     },
     "execution_count": 4,
     "metadata": {},
     "output_type": "execute_result"
    }
   ],
   "source": [
    "jaro_distance(u'Berlin',u'Berlin')"
   ]
  },
  {
   "cell_type": "markdown",
   "metadata": {},
   "source": [
    "In order to determine the dissimilarity between each city name, we compute a so-called distance matrix. A square matrix whose diagonal is 0 as the distance between the same city name is 0 for obvious reasons. Each column and row of the matrix corresponds to a name pair. For instance, the first column stands for Berlin, the third row for Cölln."
   ]
  },
  {
   "cell_type": "code",
   "execution_count": 5,
   "metadata": {},
   "outputs": [
    {
     "data": {
      "text/plain": [
       "(array([0, 0, 0, 1, 1, 2]), array([1, 2, 3, 2, 3, 3]))"
      ]
     },
     "execution_count": 5,
     "metadata": {},
     "output_type": "execute_result"
    }
   ],
   "source": [
    "# http://docs.scipy.org/doc/numpy-1.10.1/reference/generated/numpy.triu_indices.html\n",
    "# 2nd parameter:\n",
    "# Diagonal above which to zero elements. k = 0 (the default) is the main diagonal, k < 0 is below it and k > 0 is above.\"\"\"\n",
    "# r= Return the indices for the upper-triangle of an (n, m) array. da m nicht angegeben ist, wird n=m angenommen\n",
    "# m is not passed, hence m=n\n",
    "\n",
    "# create a square matrix\n",
    "r=np.triu_indices(n=len(words), k=1)\n",
    "r"
   ]
  },
  {
   "cell_type": "markdown",
   "metadata": {},
   "source": [
    "Our distance matrix is structured as follows:\n",
    "$$\n",
    "A=\n",
    "\\begin{pmatrix}\n",
    "a_{0,0} & \\underline{a_{0,1}} & \\underline{a_{0,2}} & \\underline{a_{0,3}} \\\\\n",
    "\\cdot & a_{1,1} & \\underline{a_{1,2}} & \\underline{a_{1,3}} \\\\\n",
    "\\cdot & \\cdot & a_{2,2} & \\underline{a_{2,3}} \\\\\n",
    "\\cdot & \\cdot & \\cdot & a_{3,3}\n",
    "\\end{pmatrix}\n",
    "$$\n",
    "\n",
    "To give an example, $a_{0,1}$ yields the difference between \"Berlin\" and \"Balin\"."
   ]
  },
  {
   "cell_type": "code",
   "execution_count": 6,
   "metadata": {},
   "outputs": [],
   "source": [
    "def d_demo(coord):\n",
    "    print(coord)\n",
    "    i, j = coord\n",
    "    # 1-distance is needed as the function yields a similarity (see above)\n",
    "    return 1-jaro_distance(words[i], words[j])"
   ]
  },
  {
   "cell_type": "code",
   "execution_count": 7,
   "metadata": {},
   "outputs": [
    {
     "name": "stdout",
     "output_type": "stream",
     "text": [
      "[0 1]\n",
      "[0 2]\n",
      "[0 3]\n",
      "[1 2]\n",
      "[1 3]\n",
      "[2 3]\n"
     ]
    },
    {
     "data": {
      "text/plain": [
       "array([0.1778, 0.4222, 0.3889, 0.4   , 0.3667, 0.2167])"
      ]
     },
     "execution_count": 7,
     "metadata": {},
     "output_type": "execute_result"
    }
   ],
   "source": [
    "# http://docs.scipy.org/doc/numpy-1.10.1/reference/generated/numpy.set_printoptions.html\n",
    "np.set_printoptions(precision=4)\n",
    "\n",
    "# axis (3rd parameter): 0= along y axis, 1= along x axis\n",
    "r2=np.apply_along_axis(d_demo, 0, r)\n",
    "r2"
   ]
  },
  {
   "cell_type": "markdown",
   "metadata": {},
   "source": [
    "If we map the resulting array back to a matrix, we obtain:\n",
    "$$\n",
    "A=\n",
    "\\begin{pmatrix}\n",
    "a_{0,0} & \\underline{0.1778} & \\underline{0.4222} & \\underline{0.3889} \\\\\n",
    "\\cdot & a_{1,1} & \\underline{0.4} & \\underline{0.3667} \\\\\n",
    "\\cdot & \\cdot & a_{2,2} & \\underline{0.2167} \\\\\n",
    "\\cdot & \\cdot & \\cdot & a_{3,3}\n",
    "\\end{pmatrix}\n",
    "$$\n",
    "\n",
    "That is, $a_{0,1}$, the difference between \"Berlin\" and \"Balin\", is 0.17777778. In other words, the strings are fairly similar (there is a low distance between them)."
   ]
  },
  {
   "cell_type": "markdown",
   "metadata": {},
   "source": [
    "## Working with Real Data\n",
    "\n",
    "First, we have to define the distance function to build our distance matrix."
   ]
  },
  {
   "cell_type": "code",
   "execution_count": 11,
   "metadata": {},
   "outputs": [],
   "source": [
    "def d(coord):\n",
    "    #print(coord)\n",
    "    i, j = coord\n",
    "    #py27 return 1-jaro_distance(unicode(str(words[i]), 'utf-8'), unicode(str(words[j]), 'utf-8'))\n",
    "    return 1-jaro_distance(words[i],words[j])"
   ]
  },
  {
   "cell_type": "code",
   "execution_count": 17,
   "metadata": {},
   "outputs": [
    {
     "data": {
      "text/plain": [
       "['Neon-Phaliron',\n",
       " 'Neon-Phalirou',\n",
       " 'Temesvár',\n",
       " 'Temeswar',\n",
       " 'Kolozsvártt',\n",
       " 'Kolozsvár',\n",
       " 'Kiøbenhavn',\n",
       " 'Kiøbenhavn',\n",
       " 'Kjøbenhavn',\n",
       " 'Kjøbenhavn',\n",
       " 'Kjöbenhavn',\n",
       " 'Kjøbenhavn',\n",
       " 'Kiøbenhavn',\n",
       " 'København',\n",
       " 'Kopenhagen',\n",
       " 'Copenhagen',\n",
       " 'Berlin',\n",
       " 'Bern',\n",
       " 'Berlino',\n",
       " 'Frankfurt/Main',\n",
       " 'Frankfurt/Oder',\n",
       " 'Frankfurt, Main',\n",
       " 'Frankfurt, O',\n",
       " 'Frankfurt, Oder',\n",
       " 'Franckfurt',\n",
       " 'Franckfurth',\n",
       " 'Frankfurt a. M.',\n",
       " 'Frankfurt',\n",
       " 'Frankfurt/ Main',\n",
       " 'Frankfurt a.M.',\n",
       " 'Frankfurt, Oder?',\n",
       " 'Frankfurt a. O.',\n",
       " 'Francofurti',\n",
       " 'Lipsiae',\n",
       " 'Lipsiæ',\n",
       " 'Leipzig',\n",
       " 'Havniæ',\n",
       " 'Hanoviae',\n",
       " 'Hanoviae',\n",
       " 'Obernai',\n",
       " 'Oberhofen',\n",
       " 'Bernburg',\n",
       " 'Berlin-Dahlem',\n",
       " 'Steglitz-Berlin']"
      ]
     },
     "execution_count": 17,
     "metadata": {},
     "output_type": "execute_result"
    }
   ],
   "source": [
    "words=['Neon-Phaliron','Neon-Phalirou','Temesvár','Temeswar','Kolozsvártt','Kolozsvár','Kiøbenhavn','Kiøbenhavn','Kjøbenhavn','Kjøbenhavn','Kjöbenhavn','Kjøbenhavn','Kiøbenhavn','København','Kopenhagen','Copenhagen','Berlin','Bern','Berlino','Frankfurt/Main', 'Frankfurt/Oder', 'Frankfurt, Main',\n",
    "       'Frankfurt, O', 'Frankfurt, Oder', 'Franckfurt', 'Franckfurth',\n",
    "       'Frankfurt a. M.', 'Frankfurt', 'Frankfurt/ Main',\n",
    "       'Frankfurt a.M.', 'Frankfurt, Oder?', 'Frankfurt a. O.','Francofurti','Lipsiae','Lipsiæ','Leipzig','Havniæ','Hanoviae','Hanoviae','Obernai','Oberhofen','Bernburg','Berlin-Dahlem','Steglitz-Berlin']\n",
    "words"
   ]
  },
  {
   "cell_type": "code",
   "execution_count": 18,
   "metadata": {},
   "outputs": [],
   "source": [
    "r=np.triu_indices(len(words), 1)"
   ]
  },
  {
   "cell_type": "code",
   "execution_count": 19,
   "metadata": {},
   "outputs": [
    {
     "name": "stdout",
     "output_type": "stream",
     "text": [
      "[2020-11-20 19:36:54.594918]\tStarted calculation of distance matrix for 44 words...\n",
      "[2020-11-20 19:36:54.605143]\tFinished calculations.\n"
     ]
    }
   ],
   "source": [
    "printLog(\"Started calculation of distance matrix for %i words...\"%len(words))\n",
    "# _ is the last evaluated value in an interactive shell\n",
    "# axis (3rd parameter): 0= along y axis, 1= along x axis\n",
    "r2=np.apply_along_axis(d, 0, r)\n",
    "printLog(\"Finished calculations.\")"
   ]
  },
  {
   "cell_type": "markdown",
   "metadata": {},
   "source": [
    "First, we give agglomerative/hierarchical clustering a try. For details, see https://docs.scipy.org/doc/scipy-0.14.0/reference/generated/scipy.cluster.hierarchy.linkage.html ."
   ]
  },
  {
   "cell_type": "code",
   "execution_count": 20,
   "metadata": {},
   "outputs": [],
   "source": [
    "Z=scipycluster.linkage(r2)"
   ]
  },
  {
   "cell_type": "markdown",
   "metadata": {},
   "source": [
    "A 4 by (n-1) matrix Z is returned. At the i-th iteration, clusters with indices Z[i, 0] and Z[i, 1] are combined to form cluster n + i. A cluster with an index less than n corresponds to one of the n original observations. The distance between clusters Z[i, 0] and Z[i, 1] is given by Z[i, 2]. The fourth value Z[i, 3] represents the number of original observations in the newly formed cluster.\n",
    "\n",
    "The result of the clustering algorithm can serve as input for a dendrogram plot, e.g., as described by\n",
    "https://joernhees.de/blog/2015/08/26/scipy-hierarchical-clustering-and-dendrogram-tutorial/."
   ]
  },
  {
   "cell_type": "code",
   "execution_count": 21,
   "metadata": {},
   "outputs": [
    {
     "data": {
      "image/png": "[encoded data removed]",
      "text/plain": [
       "<Figure size 1800x720 with 1 Axes>"
      ]
     },
     "metadata": {
      "needs_background": "light"
     },
     "output_type": "display_data"
    }
   ],
   "source": [
    "plt.figure(figsize=(25, 10))\n",
    "plt.title('Hierarchical Clustering Dendrogram')\n",
    "plt.xlabel('sample index')\n",
    "plt.ylabel('distance')\n",
    "scipycluster.dendrogram(\n",
    "        Z,\n",
    "        leaf_rotation=90.,  # rotates the x axis labels\n",
    "        leaf_font_size=16.,  # font size for the x axis labels\n",
    "    labels=words\n",
    "    )\n",
    "plt.show()"
   ]
  },
  {
   "cell_type": "code",
   "execution_count": null,
   "metadata": {},
   "outputs": [],
   "source": []
  }
 ],
 "metadata": {
  "kernelspec": {
   "display_name": "Python 3",
   "language": "python",
   "name": "python3"
  },
  "language_info": {
   "codemirror_mode": {
    "name": "ipython",
    "version": 3
   },
   "file_extension": ".py",
   "mimetype": "text/x-python",
   "name": "python",
   "nbconvert_exporter": "python",
   "pygments_lexer": "ipython3",
   "version": "3.7.4"
  }
 },
 "nbformat": 4,
 "nbformat_minor": 2
}
