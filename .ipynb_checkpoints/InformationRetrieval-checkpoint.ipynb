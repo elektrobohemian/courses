{
 "cells": [
  {
   "cell_type": "markdown",
   "metadata": {
    "slideshow": {
     "slide_type": "slide"
    }
   },
   "source": [
    "# Das Vektorraummodell als Grundlage automatisierter Verfahren im Information Retrieval und Text Mining"
   ]
  },
  {
   "cell_type": "code",
   "execution_count": 38,
   "metadata": {
    "collapsed": false
   },
   "outputs": [],
   "source": [
    "# This cell has to be run to prepare the Jupyter notebook\n",
    "\n",
    "# The %... is an Jupyter thing, and is not part of the Python language.\n",
    "# In this case we're just telling the plotting library to draw things on\n",
    "# the notebook, instead of on a separate window.\n",
    "%matplotlib inline\n",
    "# See all the \"as ...\" contructs? They're just aliasing the package names.\n",
    "# That way we can call methods like plt.plot() instead of matplotlib.pyplot.plot().\n",
    "import numpy as np\n",
    "import matplotlib.pyplot as plt\n",
    "import pandas as pd\n",
    "pd.set_option('display.width', 500)\n",
    "pd.set_option('display.max_columns', 100)\n",
    "pd.set_option('display.notebook_repr_html', True)\n",
    "\n",
    "from time import time\n",
    "from math import log\n",
    "# import the k-means algorithm\n",
    "from sklearn.cluster import KMeans\n",
    "\n",
    "import seaborn as sns\n",
    "sns.set_style(\"whitegrid\")\n",
    "sns.set_context(\"poster\")"
   ]
  },
  {
   "cell_type": "markdown",
   "metadata": {
    "slideshow": {
     "slide_type": "slide"
    }
   },
   "source": [
    "## Agenda\n",
    "* Abgrenzung zum Booleschen Retrievalmodell\n",
    "* Nutzer-zentrierte Herleitung des Vektorraummodells\n",
    "* Auswirkungen der natürlichen Sprache auf das Modell\n",
    "* Vor- und Nachteile des Vektorraummodells\n",
    "* Praktische Anwendungen im Text und Data Mining\n"
   ]
  },
  {
   "cell_type": "markdown",
   "metadata": {
    "slideshow": {
     "slide_type": "slide"
    }
   },
   "source": [
    "## Boolesches Retrieval\n",
    "* Relevanz wird anhand der Existenz des Anfrageterms im Dokument bestimmt \n",
    "  * Score = 1 für relevante Dokumente\n",
    "  * Score = 0 für nichtrelevante Dokumente \n",
    "* Kein Ranking möglich, ein Dokument ist relevant oder nicht\n",
    "* Extended Boolean Retrieval bringt Ranking\n",
    "* Auch in relationalen Datenbanken verwendet, In Bibliotheken: OPAC\n",
    "\n",
    "### Vorteile\n",
    "* Simple Anfragen sind leicht zu verstehen\n",
    "\n",
    "### Nachteile\n",
    "* Schwierig, genaue Anfragen zu spezifizieren\n",
    "* Logische Junktoren (UND, ODER) entsprechen nicht immer der natürlichen Sprache\n",
    "* Ergebnismengen werden schnell zu klein oder zu groß, je nach Junktoren\n",
    "* Ergebnis ist nur sortier- bzw. gruppierbar\n"
   ]
  },
  {
   "cell_type": "markdown",
   "metadata": {
    "slideshow": {
     "slide_type": "slide"
    }
   },
   "source": [
    "## Nur ist der Nutzer immer so präzise?"
   ]
  },
  {
   "cell_type": "markdown",
   "metadata": {
    "slideshow": {
     "slide_type": "slide"
    }
   },
   "source": [
    "## Nutzer sind sich im Unklaren...\n",
    "* über den Informationsbedarf\n",
    "* wie der Informationsbedarf formuliert werden kann\n",
    "* was in der Kollektion enthalten ist\n",
    "* was \"gute\" Ergebnisse sind, d.h.,\n",
    "  * ob relevante Ergebnisse gefunden wurden\n",
    "  * ob alle wichtigen Ergebnisse gefunden wurden \n",
    "* Dokumente, die einer Anfrage „ähnlich“ sind, sind wahrscheinlich relevant für diese Anfrage\n",
    "\n",
    "[Kuhlthau 1991, Ingwersen 1996, Ellis/Haugan 1997, Reiterer et al. 2000] und viele mehr...\n"
   ]
  },
  {
   "cell_type": "markdown",
   "metadata": {
    "slideshow": {
     "slide_type": "slide"
    }
   },
   "source": [
    "## Wie lässt sich Ähnlichkeit ausdrücken?"
   ]
  },
  {
   "cell_type": "markdown",
   "metadata": {
    "slideshow": {
     "slide_type": "slide"
    }
   },
   "source": [
    "## Vom Dokument zum Vektor\n",
    "\n",
    "* Dokumente und Anfrage repräsentiert durch t-dimensionale Vektoren \n",
    "* t ist Termanzahl des Indexvokabulars\n",
    "* i-te Vektorkomponente ist Termgewicht $w_{dk}$ (reelle Zahl)\n",
    "* Hohes Termgewicht ⇒ entsprechender Term repräsentiert Dokument/Anfrage gut\n",
    "\n",
    "[Salton et al. 1975]"
   ]
  },
  {
   "cell_type": "code",
   "execution_count": 16,
   "metadata": {
    "collapsed": false,
    "slideshow": {
     "slide_type": "slide"
    }
   },
   "outputs": [
    {
     "data": {
      "text/html": [
       "<div>\n",
       "<table border=\"1\" class=\"dataframe\">\n",
       "  <thead>\n",
       "    <tr style=\"text-align: right;\">\n",
       "      <th></th>\n",
       "      <th>term 2 (z.B. Retrieval)</th>\n",
       "      <th>term 1 (z.B. Information)</th>\n",
       "    </tr>\n",
       "  </thead>\n",
       "  <tbody>\n",
       "    <tr>\n",
       "      <th>doc01</th>\n",
       "      <td>1</td>\n",
       "      <td>2</td>\n",
       "    </tr>\n",
       "    <tr>\n",
       "      <th>doc02</th>\n",
       "      <td>10</td>\n",
       "      <td>10</td>\n",
       "    </tr>\n",
       "    <tr>\n",
       "      <th>doc03</th>\n",
       "      <td>60</td>\n",
       "      <td>40</td>\n",
       "    </tr>\n",
       "    <tr>\n",
       "      <th>doc04</th>\n",
       "      <td>100</td>\n",
       "      <td>80</td>\n",
       "    </tr>\n",
       "    <tr>\n",
       "      <th>doc05</th>\n",
       "      <td>99</td>\n",
       "      <td>81</td>\n",
       "    </tr>\n",
       "    <tr>\n",
       "      <th>doc06</th>\n",
       "      <td>1</td>\n",
       "      <td>1</td>\n",
       "    </tr>\n",
       "    <tr>\n",
       "      <th>doc07</th>\n",
       "      <td>45</td>\n",
       "      <td>55</td>\n",
       "    </tr>\n",
       "    <tr>\n",
       "      <th>doc08</th>\n",
       "      <td>9</td>\n",
       "      <td>10</td>\n",
       "    </tr>\n",
       "    <tr>\n",
       "      <th>doc09</th>\n",
       "      <td>11</td>\n",
       "      <td>11</td>\n",
       "    </tr>\n",
       "    <tr>\n",
       "      <th>doc10</th>\n",
       "      <td>1</td>\n",
       "      <td>11</td>\n",
       "    </tr>\n",
       "  </tbody>\n",
       "</table>\n",
       "</div>"
      ],
      "text/plain": [
       "       term 2 (z.B. Retrieval)  term 1 (z.B. Information)\n",
       "doc01                        1                          2\n",
       "doc02                       10                         10\n",
       "doc03                       60                         40\n",
       "doc04                      100                         80\n",
       "doc05                       99                         81\n",
       "doc06                        1                          1\n",
       "doc07                       45                         55\n",
       "doc08                        9                         10\n",
       "doc09                       11                         11\n",
       "doc10                        1                         11"
      ]
     },
     "execution_count": 16,
     "metadata": {},
     "output_type": "execute_result"
    }
   ],
   "source": [
    "# create sample data\n",
    "d = {'doc01': (1,2), 'doc02': (10,10),'doc03':(60,40),'doc04':(100,80),'doc05':(99,81),'doc06':(1,1),'doc07':(45,55),'doc08':(9,10),'doc09':(11,11),'doc10':(1,11)}\n",
    "# create a data frame from our sample data\n",
    "sampleDF=pd.DataFrame(data=d)\n",
    "# transpose the data frame for later use\n",
    "sampleDF=sampleDF.transpose()\n",
    "sampleDF.columns = ['term 2 (z.B. Retrieval)', 'term 1 (z.B. Information)']\n",
    "sampleDF.head(10)"
   ]
  },
  {
   "cell_type": "code",
   "execution_count": 17,
   "metadata": {
    "collapsed": false,
    "slideshow": {
     "slide_type": "slide"
    }
   },
   "outputs": [
    {
     "data": {
      "text/plain": [
       "<matplotlib.axes._subplots.AxesSubplot at 0x10b2341d0>"
      ]
     },
     "execution_count": 17,
     "metadata": {},
     "output_type": "execute_result"
    },
    {
     "data": {
      "image/png": "[encoded data removed]",
      "text/plain": [
       "<matplotlib.figure.Figure at 0x10b234550>"
      ]
     },
     "metadata": {},
     "output_type": "display_data"
    }
   ],
   "source": [
    "# plot the sample data\n",
    "\n",
    "sampleDF.plot(x=0,y=1,kind='scatter',alpha=0.75,s=70) # we have to define explicitly which data is used for the x and y axes"
   ]
  },
  {
   "cell_type": "markdown",
   "metadata": {
    "slideshow": {
     "slide_type": "slide"
    }
   },
   "source": [
    "## Clusterhypothese\n",
    "“This hypothesis may be simply stated as follows: closely associated documents tend to be relevant to the same requests.”      \t\t \t \t \t\t \t \t \t\t\t\t\t\t\t\t\n",
    "[van Rijsbergen 1979, Ch. 3] \n",
    "\n",
    "### Das Skalarprodukt als Ähnlichkeitsmaß\n",
    "\n",
    "$$\n",
    "similarity(V_Q,V_D)=<V_Q,V_D>=\\sum_{k=1}^tw_{qk}w_{dk}=|V_Q||V_D|\\cos(\\alpha)\n",
    "$$\n"
   ]
  },
  {
   "cell_type": "markdown",
   "metadata": {
    "slideshow": {
     "slide_type": "slide"
    }
   },
   "source": [
    "## Vorkommenshäufigkeit des Terms im Dokument\n",
    "* Vorkommenshäufigkeit $tf_{dk}$ des Terms im Dokument, desto besser beschreibt der Term das Dokument\n",
    "* Achtung: absolute Vorkommenshäufigkeit bei langen Dokumenten tendenziell höher\n",
    "* Konsequenz: lange Dokumente werden bei der Suche bevorzugt\n"
   ]
  },
  {
   "cell_type": "code",
   "execution_count": 18,
   "metadata": {
    "collapsed": false,
    "slideshow": {
     "slide_type": "subslide"
    }
   },
   "outputs": [
    {
     "name": "stdout",
     "output_type": "stream",
     "text": [
      "similarity between Vq and Vd1: 5\n",
      "similarity between Vq and Vd2: 4\n"
     ]
    }
   ],
   "source": [
    "vq=[0,1,1,0]\n",
    "vd1=[50,5,0,0]\n",
    "vd2=[0,2,2,0]\n",
    "print \"similarity between Vq and Vd1: %i\"%np.inner(vq,vd1) # inner product is another name for the scalar/dot product\n",
    "print \"similarity between Vq and Vd2: %i\"%np.inner(vq,vd2)"
   ]
  },
  {
   "cell_type": "markdown",
   "metadata": {
    "slideshow": {
     "slide_type": "slide"
    }
   },
   "source": [
    "## Vorkommenshäufigkeit des Terms im Dokument\n",
    "\n",
    "Unabhängigkeit von Dokumentlänge durch Normierung der Dokumentvektoren:\n",
    "\n",
    "$$\n",
    "w_{dk}=\\frac{tf_{dk}}{\\sqrt{\\sum_{i=1}^t}tf_{di}^2}\n",
    "$$"
   ]
  },
  {
   "cell_type": "markdown",
   "metadata": {
    "slideshow": {
     "slide_type": "slide"
    }
   },
   "source": [
    "## Zipf's Law\n",
    "\n",
    "Ordnet man Worte eines Textes nach ihrer Häufigkeit, so ist ihre Auftrittswahrscheinlichkeit p(n) umgekehrt proportional zu ihrer Position n innerhalb der Ordnung ⇒ Hyperbel\n",
    "$$\n",
    "p(n)\\simeq \\frac{1}{n}\n",
    "$$\n",
    "\n",
    "![title](zipf.png)"
   ]
  },
  {
   "cell_type": "markdown",
   "metadata": {
    "slideshow": {
     "slide_type": "slide"
    }
   },
   "source": [
    "## Zipf‘s Law als Motivation für Stoppworte\n",
    "* Stoppworte: Worte, die aus dem Indexvokabular entfernt werden, weil sie...\n",
    "  * häufig (oder zu selten) sind\n",
    "  * \"ohne Bedeutung\" sind\n",
    "* Wie wirken sich Stoppworte etc. auf Dokumentvektoren aus?\n",
    "* Stoppwort-Eliminierung vermindert Möglichkeiten der Phrasensuche\n"
   ]
  },
  {
   "cell_type": "code",
   "execution_count": 31,
   "metadata": {
    "collapsed": false,
    "slideshow": {
     "slide_type": "subslide"
    }
   },
   "outputs": [
    {
     "name": "stdout",
     "output_type": "stream",
     "text": [
      "Before stopword elimination\n",
      "\tsimilarity between Vq and b: 9900\n",
      "\tsimilarity between Vq and c: 8006\n",
      "\n",
      "After stopword elimination\n",
      "\tsimilarity between Vq and b: 0\n",
      "\tsimilarity between Vq and c: 6\n"
     ]
    }
   ],
   "source": [
    "# with stopword in first dimension\n",
    "vq=[100,0,0,1,2]\n",
    "b=[99,1,2,0,0]\n",
    "c=[80,0,0,2,2]\n",
    "\n",
    "print \"Before stopword elimination\"\n",
    "print \"\\tsimilarity between Vq and b: %i\"%np.inner(vq,b)\n",
    "print \"\\tsimilarity between Vq and c: %i\"%np.inner(a,c)\n",
    "# after stopword elimination\n",
    "vq2=[0,0,1,2]\n",
    "b2=[1,2,0,0]\n",
    "c2=[0,0,2,2]\n",
    "\n",
    "print \"\\nAfter stopword elimination\"\n",
    "print \"\\tsimilarity between Vq and b: %i\"%np.inner(vq2,b2)\n",
    "print \"\\tsimilarity between Vq and c: %i\"%np.inner(a2,c2)"
   ]
  },
  {
   "cell_type": "markdown",
   "metadata": {
    "slideshow": {
     "slide_type": "slide"
    }
   },
   "source": [
    "## Trennschärfe des Terms\n",
    "* Wenn Term in weniger Dokumenten auftritt, ist er spezifischer\n",
    "* Spezifischere Terme haben höhere Trennschärfe und sollten höher gewichtet werden\n",
    "* Ansatz: Trennschärfe als Quotient: $N/n_i$\n",
    "\n",
    "$$\n",
    "w_{dk}=\\frac{tf_{dk}\\frac{N}{n_k}}{\\sqrt{\\sum_{i=1}^t}(tf_{di}\\frac{N}{n_i})^2}\n",
    "$$\n",
    "\n",
    "* tf steht für term frequency\n",
    "* idf steht für inverse document frequency\n",
    "* tf∙idf-Formel ist heuristische Formel und in Varianten weit verbreitet\n",
    "* wird auch in [Lucene](https://lucene.apache.org/core/4_0_0/core/org/apache/lucene/search/similarities/TFIDFSimilarity.html) und damit auch in [SOLR](http://lucene.apache.org/solr/) und [ElasticSearch](https://www.elastic.co/products/elasticsearch) genutzt\n"
   ]
  },
  {
   "cell_type": "code",
   "execution_count": 54,
   "metadata": {
    "collapsed": false,
    "slideshow": {
     "slide_type": "subslide"
    }
   },
   "outputs": [
    {
     "data": {
      "text/plain": [
       "<matplotlib.legend.Legend at 0x110404110>"
      ]
     },
     "execution_count": 54,
     "metadata": {},
     "output_type": "execute_result"
    },
    {
     "data": {
      "image/png": "[encoded data removed]",
      "text/plain": [
       "<matplotlib.figure.Figure at 0x10fc99b50>"
      ]
     },
     "metadata": {},
     "output_type": "display_data"
    }
   ],
   "source": [
    "N=1000.0\n",
    "ni=[]\n",
    "quotient=[]\n",
    "quotientLog=[]\n",
    "\n",
    "for i in range(1,500):\n",
    "    ni.append(i)\n",
    "\n",
    "for i in ni:\n",
    "    quotient.append(N/i)\n",
    "    quotientLog.append(log(N/i))\n",
    "\n",
    "plt.plot(ni,quotient,label=\"N/ni\")\n",
    "plt.plot(ni,quotientLog,label=\"log(N/ni)\")\n",
    "plt.axis([0, 500, 0, 100])\n",
    "plt.ylabel('Result (limited to 100)')\n",
    "plt.xlabel(\"ni\")\n",
    "plt.title(\"Sample results of idf, N=1000\")\n",
    "plt.legend()"
   ]
  },
  {
   "cell_type": "markdown",
   "metadata": {
    "slideshow": {
     "slide_type": "slide"
    }
   },
   "source": [
    "## Bewertung des Vektorraummodells\n",
    "### Nachteile:\n",
    "* Geht von Unabhängigkeit der Terme aus\n",
    "* Reihenfolge der Worte spielt keine Rolle (bag of words) \n",
    "* Keine theoretische Fundierung des Modells\n",
    "* Anpassung an strukturierte Dokumente nur schwer möglich\n",
    "\n",
    "### Vorteile\n",
    "* Einfachheit\n",
    "* Sehr gute empirische Retrieval-Qualität\n",
    "* Effiziente Implementierung durch invertierte Listen\n",
    "* Relevance Feedback verbessert Ergebnisqualität\n",
    "* Direkt für Text Mining verwendbar\n",
    "* Prinzipien auch auf multimediale Daten übertragbar\n"
   ]
  },
  {
   "cell_type": "markdown",
   "metadata": {
    "slideshow": {
     "slide_type": "slide"
    }
   },
   "source": [
    "## Ausblick auf Anwendungen im Text Mining\n",
    "### Clustering"
   ]
  },
  {
   "cell_type": "code",
   "execution_count": 19,
   "metadata": {
    "collapsed": false,
    "slideshow": {
     "slide_type": "subslide"
    }
   },
   "outputs": [
    {
     "name": "stderr",
     "output_type": "stream",
     "text": [
      "/anaconda/lib/python2.7/site-packages/ipykernel/__main__.py:9: FutureWarning: sort(columns=....) is deprecated, use sort_values(by=.....)\n"
     ]
    },
    {
     "data": {
      "text/html": [
       "<div>\n",
       "<table border=\"1\" class=\"dataframe\">\n",
       "  <thead>\n",
       "    <tr style=\"text-align: right;\">\n",
       "      <th></th>\n",
       "      <th>term 2 (z.B. Retrieval)</th>\n",
       "      <th>term 1 (z.B. Information)</th>\n",
       "      <th>cluster</th>\n",
       "    </tr>\n",
       "  </thead>\n",
       "  <tbody>\n",
       "    <tr>\n",
       "      <th>doc03</th>\n",
       "      <td>60</td>\n",
       "      <td>40</td>\n",
       "      <td>0</td>\n",
       "    </tr>\n",
       "    <tr>\n",
       "      <th>doc07</th>\n",
       "      <td>45</td>\n",
       "      <td>55</td>\n",
       "      <td>0</td>\n",
       "    </tr>\n",
       "    <tr>\n",
       "      <th>doc01</th>\n",
       "      <td>1</td>\n",
       "      <td>2</td>\n",
       "      <td>1</td>\n",
       "    </tr>\n",
       "    <tr>\n",
       "      <th>doc02</th>\n",
       "      <td>10</td>\n",
       "      <td>10</td>\n",
       "      <td>1</td>\n",
       "    </tr>\n",
       "    <tr>\n",
       "      <th>doc06</th>\n",
       "      <td>1</td>\n",
       "      <td>1</td>\n",
       "      <td>1</td>\n",
       "    </tr>\n",
       "    <tr>\n",
       "      <th>doc08</th>\n",
       "      <td>9</td>\n",
       "      <td>10</td>\n",
       "      <td>1</td>\n",
       "    </tr>\n",
       "    <tr>\n",
       "      <th>doc09</th>\n",
       "      <td>11</td>\n",
       "      <td>11</td>\n",
       "      <td>1</td>\n",
       "    </tr>\n",
       "    <tr>\n",
       "      <th>doc10</th>\n",
       "      <td>1</td>\n",
       "      <td>11</td>\n",
       "      <td>1</td>\n",
       "    </tr>\n",
       "    <tr>\n",
       "      <th>doc04</th>\n",
       "      <td>100</td>\n",
       "      <td>80</td>\n",
       "      <td>2</td>\n",
       "    </tr>\n",
       "    <tr>\n",
       "      <th>doc05</th>\n",
       "      <td>99</td>\n",
       "      <td>81</td>\n",
       "      <td>2</td>\n",
       "    </tr>\n",
       "  </tbody>\n",
       "</table>\n",
       "</div>"
      ],
      "text/plain": [
       "       term 2 (z.B. Retrieval)  term 1 (z.B. Information)  cluster\n",
       "doc03                       60                         40        0\n",
       "doc07                       45                         55        0\n",
       "doc01                        1                          2        1\n",
       "doc02                       10                         10        1\n",
       "doc06                        1                          1        1\n",
       "doc08                        9                         10        1\n",
       "doc09                       11                         11        1\n",
       "doc10                        1                         11        1\n",
       "doc04                      100                         80        2\n",
       "doc05                       99                         81        2"
      ]
     },
     "execution_count": 19,
     "metadata": {},
     "output_type": "execute_result"
    }
   ],
   "source": [
    "# define the number of clusters to be found\n",
    "true_k=3\n",
    "# initialize the k-means algorithm\n",
    "km = KMeans(n_clusters=true_k, init='k-means++', max_iter=100, n_init=1)\n",
    "# apply the algorithm on the data\n",
    "km.fit(sampleDF)\n",
    "# add the detected clusters as a new column to the original data frame\n",
    "sampleDF['cluster']=km.labels_\n",
    "sampleDF=sampleDF.sort('cluster')\n",
    "sampleDF.head(10)"
   ]
  },
  {
   "cell_type": "code",
   "execution_count": 20,
   "metadata": {
    "collapsed": false,
    "slideshow": {
     "slide_type": "subslide"
    }
   },
   "outputs": [
    {
     "data": {
      "text/html": [
       "<div>\n",
       "<table border=\"1\" class=\"dataframe\">\n",
       "  <thead>\n",
       "    <tr style=\"text-align: right;\">\n",
       "      <th></th>\n",
       "      <th>0</th>\n",
       "      <th>1</th>\n",
       "    </tr>\n",
       "  </thead>\n",
       "  <tbody>\n",
       "    <tr>\n",
       "      <th>0</th>\n",
       "      <td>52.5</td>\n",
       "      <td>47.5</td>\n",
       "    </tr>\n",
       "    <tr>\n",
       "      <th>1</th>\n",
       "      <td>5.5</td>\n",
       "      <td>7.5</td>\n",
       "    </tr>\n",
       "    <tr>\n",
       "      <th>2</th>\n",
       "      <td>99.5</td>\n",
       "      <td>80.5</td>\n",
       "    </tr>\n",
       "  </tbody>\n",
       "</table>\n",
       "</div>"
      ],
      "text/plain": [
       "      0     1\n",
       "0  52.5  47.5\n",
       "1   5.5   7.5\n",
       "2  99.5  80.5"
      ]
     },
     "execution_count": 20,
     "metadata": {},
     "output_type": "execute_result"
    }
   ],
   "source": [
    "clusterCenters=pd.DataFrame(data=km.cluster_centers_)\n",
    "clusterCenters.head()"
   ]
  },
  {
   "cell_type": "code",
   "execution_count": 21,
   "metadata": {
    "collapsed": false,
    "slideshow": {
     "slide_type": "subslide"
    }
   },
   "outputs": [
    {
     "data": {
      "text/plain": [
       "<matplotlib.patches.Circle at 0x10b898e50>"
      ]
     },
     "execution_count": 21,
     "metadata": {},
     "output_type": "execute_result"
    },
    {
     "data": {
      "image/png": "[encoded data removed]",
      "text/plain": [
       "<matplotlib.figure.Figure at 0x10b534050>"
      ]
     },
     "metadata": {},
     "output_type": "display_data"
    }
   ],
   "source": [
    "# plot the sample data and save the plot in the variable \"ax\"\n",
    "ax=sampleDF.plot(x=0,y=1,kind='scatter',alpha=0.75,s=70)\n",
    "# plot the centroids in red\n",
    "plt.scatter(x=clusterCenters[0],y=clusterCenters[1],color='red')\n",
    "# next, define the circles' centers surrounding the clusters for a better visualization result\n",
    "cirlePos1=(clusterCenters[0][0],clusterCenters[1][0])\n",
    "cirlePos2=(clusterCenters[0][1],clusterCenters[1][1])\n",
    "cirlePos3=(clusterCenters[0][2],clusterCenters[1][2])\n",
    "# create the unfilled circles with a radius of 20 (this value is arbitrary)\n",
    "circ1=plt.Circle(cirlePos1,20,color='r',fill=False)\n",
    "circ2=plt.Circle(cirlePos2,20,color='r',fill=False)\n",
    "circ3=plt.Circle(cirlePos3,20,color='r',fill=False)\n",
    "# add the circles to your plot\n",
    "ax.add_patch(circ1)\n",
    "ax.add_patch(circ2)\n",
    "ax.add_patch(circ3)"
   ]
  },
  {
   "cell_type": "markdown",
   "metadata": {
    "slideshow": {
     "slide_type": "slide"
    }
   },
   "source": [
    "## Weitere Werkzeuge\n",
    "\n",
    "* [OpenRefine zur Datenbereinigung](http://openrefine.org/)\n",
    "* [Gephi zur Visualisierung](https://gephi.org/)\n",
    "* [Multimediales Retrieval](http://8bit-inferno.de/force/)"
   ]
  },
  {
   "cell_type": "markdown",
   "metadata": {
    "slideshow": {
     "slide_type": "slide"
    }
   },
   "source": [
    "## Quellen\n",
    "\n",
    "* [Kuhlthau 1991](https://www.google.de/url?sa=t&rct=j&q=&esrc=s&source=web&cd=1&cad=rja&uact=8&ved=0ahUKEwiUs9LoppHMAhUGthQKHTlRA3kQFggfMAA&url=https%3A%2F%2Fcomminfo.rutgers.edu%2F~kuhlthau%2Fdocs%2FInsidetheSearchProcess.pdf&usg=AFQjCNFa_wYoTfGIPSw8kqZP2QImVo9DLw&sig2=0uwO1GwwpwXM2WJWRF5frg&bvm=bv.119745492,d.bGg) Kuhlthau, C.C.: Inside the Search Process: Information Seeking from the User’s Perspective. Jrnl. o. t. American Soc. f. Information Science 42(5) (1991) 361–371 \n",
    "\n",
    "* [Ingwersen 1996](http://www.emeraldinsight.com/doi/abs/10.1108/eb026960) Ingwersen, P.: Cognitive Perspectives of Information Retrieval Interaction: Elements of a Cognitive IR Theory. Journal of Documentation 52 (1996) 3–50 \n",
    "\n",
    "* [Ellis/Haugan 1997](http://www.emeraldinsight.com/doi/abs/10.1108/EUM0000000007204) Ellis, D., Haugan, M.: Modelling the Information Seeking Patterns of Engineers and Research Scientists in an Industrial Environment. Journal of Documentation \n",
    "53(4) (1997) 384–403 \n",
    "\n",
    "* [Reiterer et al. 2000](http://ftp.cse.buffalo.edu/users/azhang/disc/disc01/cd1/out/papers/sigir/p112-reiterer.pdf) Reiterer, H., Mußler, G., Mann, T., Handschuh, S.: INSYDER. In: Proc. of the 23rd SIGIR ’00, ACM (2000) 112–119 \n",
    "\n",
    "* [Salton et al. 1975](http://dl.acm.org/citation.cfm?id=361220&CFID=104106607&CFTOKEN=66234087) Salton, G., Wong, A., Yang, C.S.: A vector space model for automatic indexing\n",
    "October 1975 Communications of the ACM: Volume 18 Issue 11, Nov. 1975\n",
    "\n",
    "* [van Rijsbergen 1979](http://www.dcs.gla.ac.uk/Keith/Preface.html) van Rijsbergen, Cornelis J.: Information Retrieval. 2. London : Butterworths, 1979 \n",
    "\n",
    "* [Bates 1989](https://pages.gseis.ucla.edu/faculty/bates/berrypicking.html) Bates, M.: The Design of Browsing and Berrypicking Techniques for the Online Search Interface. Online Review 13(5) (1989) 407–424 \n"
   ]
  },
  {
   "cell_type": "code",
   "execution_count": null,
   "metadata": {
    "collapsed": true
   },
   "outputs": [],
   "source": []
  }
 ],
 "metadata": {
  "celltoolbar": "Slideshow",
  "kernelspec": {
   "display_name": "Python 2",
   "language": "python",
   "name": "python2"
  },
  "language_info": {
   "codemirror_mode": {
    "name": "ipython",
    "version": 2
   },
   "file_extension": ".py",
   "mimetype": "text/x-python",
   "name": "python",
   "nbconvert_exporter": "python",
   "pygments_lexer": "ipython2",
   "version": "2.7.11"
  }
 },
 "nbformat": 4,
 "nbformat_minor": 0
}
