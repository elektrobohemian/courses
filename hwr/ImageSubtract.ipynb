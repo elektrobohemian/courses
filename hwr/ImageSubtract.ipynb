{
 "cells": [
  {
   "cell_type": "code",
   "execution_count": 11,
   "metadata": {},
   "outputs": [],
   "source": [
    "# https://pythontic.com/image-processing/pillow/subtract\n",
    "from PIL import Image\n",
    "\n",
    "import numpy as np\n",
    "\n",
    " \n",
    "\n",
    "# Paths of two image frames\n",
    "\n",
    "image1Path = \"./obama.jpg\";\n",
    "\n",
    "image2Path = \"./obama_cloaked.png\";\n",
    "\n",
    " \n",
    "\n",
    "# Open the images\n",
    "\n",
    "image2     = Image.open(image1Path);\n",
    "\n",
    "image1     = Image.open(image2Path);\n",
    "\n",
    " \n",
    "\n",
    "# Get the image buffer as ndarray\n",
    "\n",
    "buffer1    = np.asarray(image1);\n",
    "\n",
    "buffer2    = np.asarray(image2);\n",
    "\n",
    " \n",
    "\n",
    "# Subtract image2 from image1\n",
    "\n",
    "buffer3    = buffer1 - buffer2;\n",
    "\n",
    " \n",
    "\n",
    "# Construct a new Image from the resultant buffer\n",
    "\n",
    "differenceImage     = Image.fromarray(buffer3);\n",
    "\n",
    " \n",
    "\n",
    "# Display all the images including the difference image\n",
    "\n",
    "image1.show();\n",
    "\n",
    "image2.show();\n",
    "\n",
    "differenceImage.show();"
   ]
  },
  {
   "cell_type": "code",
   "execution_count": null,
   "metadata": {},
   "outputs": [],
   "source": []
  },
  {
   "cell_type": "code",
   "execution_count": null,
   "metadata": {},
   "outputs": [],
   "source": []
  }
 ],
 "metadata": {
  "kernelspec": {
   "display_name": "Python 3",
   "language": "python",
   "name": "python3"
  },
  "language_info": {
   "codemirror_mode": {
    "name": "ipython",
    "version": 3
   },
   "file_extension": ".py",
   "mimetype": "text/x-python",
   "name": "python",
   "nbconvert_exporter": "python",
   "pygments_lexer": "ipython3",
   "version": "3.7.4"
  }
 },
 "nbformat": 4,
 "nbformat_minor": 2
}
