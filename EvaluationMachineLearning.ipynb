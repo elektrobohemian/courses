{
 "cells": [
  {
   "cell_type": "markdown",
   "metadata": {},
   "source": [
    "# Evaluating Machine Learning Algorithms - Extended Examples\n",
    "\n",
    "## Preparations\n",
    "\n",
    "* Download [Anaconda with Python 3.6](https://www.anaconda.com/download) to install a nearly complete Python enviroment for data science projects\n",
    "* Install [Keras: The Python Deep Learning Library](https://keras.io/) and other missing packages with the following command: ```conda install keras```\n",
    "* Start your local Jupyter instance with ```jupyter notebook```"
   ]
  },
  {
   "cell_type": "code",
   "execution_count": 1,
   "metadata": {},
   "outputs": [
    {
     "name": "stderr",
     "output_type": "stream",
     "text": [
      "Using TensorFlow backend.\n"
     ]
    }
   ],
   "source": [
    "# The %... is an iPython thing, and is not part of the Python language.\n",
    "# In this case we're just telling the plotting library to draw things on\n",
    "# the notebook, instead of on a separate window.\n",
    "%matplotlib inline\n",
    "# the import statements load differnt Python packages that we need for the tutorial\n",
    "# See all the \"as ...\" contructs? They're just aliasing the package names.\n",
    "# That way we can call methods like plt.plot() instead of matplotlib.pyplot.plot().\n",
    "import numpy as np\n",
    "import scipy as sp\n",
    "import matplotlib as mpl\n",
    "import matplotlib.cm as cm\n",
    "import matplotlib.pyplot as plt\n",
    "import pandas as pd\n",
    "import time\n",
    "pd.set_option('display.width', 500)\n",
    "pd.set_option('display.max_columns', 100)\n",
    "pd.set_option('display.notebook_repr_html', True)\n",
    "import seaborn as sns\n",
    "sns.set_style(\"whitegrid\")\n",
    "sns.set_context(\"notebook\")\n",
    "\n",
    "# ML imports\n",
    "from keras.datasets import mnist\n",
    "from keras.models import Sequential\n",
    "from keras.layers import Dense\n",
    "from keras.layers import Dropout\n",
    "from keras.utils import np_utils"
   ]
  },
  {
   "cell_type": "markdown",
   "metadata": {},
   "source": [
    "http://yann.lecun.com/exdb/mnist/   \n",
    "\n",
    "# TREC ist auch NIST"
   ]
  },
  {
   "cell_type": "code",
   "execution_count": 2,
   "metadata": {},
   "outputs": [
    {
     "data": {
      "image/png": "[encoded data removed]",
      "text/plain": [
       "<Figure size 432x288 with 4 Axes>"
      ]
     },
     "metadata": {
      "needs_background": "light"
     },
     "output_type": "display_data"
    }
   ],
   "source": [
    "# load (download if needed) the MNIST dataset of handwritten numbers\n",
    "(X_train, y_train), (X_test, y_test) = mnist.load_data()\n",
    "# plot 4 images as gray scale images\n",
    "plt.subplot(221)\n",
    "# -1 inverts the image because of aesthetical reasons\n",
    "plt.imshow(X_train[0]*-1, cmap=plt.get_cmap('gray'))\n",
    "plt.subplot(222)\n",
    "plt.imshow(X_train[1]*-1, cmap=plt.get_cmap('gray'))\n",
    "plt.subplot(223)\n",
    "plt.imshow(X_train[2]*-1, cmap=plt.get_cmap('gray'))\n",
    "plt.subplot(224)\n",
    "plt.imshow(X_train[3]*-1, cmap=plt.get_cmap('gray'))\n",
    "# show the plot\n",
    "\n",
    "plt.savefig(\"test.pdf\",format=\"pdf\")\n",
    "plt.show()"
   ]
  },
  {
   "cell_type": "markdown",
   "metadata": {},
   "source": [
    "# was genau drückt baseline error aus?\n",
    "- > fehler bezogen auf accuracy"
   ]
  },
  {
   "cell_type": "code",
   "execution_count": 72,
   "metadata": {},
   "outputs": [
    {
     "name": "stdout",
     "output_type": "stream",
     "text": [
      "Train on 60000 samples, validate on 10000 samples\n",
      "Epoch 1/10\n",
      " - 36s - loss: 0.2797 - acc: 0.9205 - val_loss: 0.1411 - val_acc: 0.9576\n",
      "Epoch 2/10\n",
      " - 37s - loss: 0.1116 - acc: 0.9675 - val_loss: 0.0922 - val_acc: 0.9713\n",
      "Epoch 3/10\n",
      " - 37s - loss: 0.0717 - acc: 0.9798 - val_loss: 0.0790 - val_acc: 0.9764\n",
      "Epoch 4/10\n",
      " - 44s - loss: 0.0502 - acc: 0.9861 - val_loss: 0.0749 - val_acc: 0.9770\n",
      "Epoch 5/10\n",
      " - 43s - loss: 0.0369 - acc: 0.9895 - val_loss: 0.0665 - val_acc: 0.9791\n",
      "Epoch 6/10\n",
      " - 45s - loss: 0.0266 - acc: 0.9930 - val_loss: 0.0627 - val_acc: 0.9802\n",
      "Epoch 7/10\n",
      " - 37s - loss: 0.0207 - acc: 0.9946 - val_loss: 0.0632 - val_acc: 0.9807\n",
      "Epoch 8/10\n",
      " - 36s - loss: 0.0139 - acc: 0.9971 - val_loss: 0.0621 - val_acc: 0.9807\n",
      "Epoch 9/10\n",
      " - 36s - loss: 0.0105 - acc: 0.9979 - val_loss: 0.0585 - val_acc: 0.9817\n",
      "Epoch 10/10\n",
      " - 37s - loss: 0.0078 - acc: 0.9986 - val_loss: 0.0577 - val_acc: 0.9819\n",
      "Baseline Error: 1.81%\n"
     ]
    }
   ],
   "source": [
    "# define baseline model\n",
    "def baseline_model():\n",
    "\t# create model\n",
    "\tmodel = Sequential()\n",
    "\tmodel.add(Dense(num_pixels, input_dim=num_pixels, kernel_initializer='normal', activation='relu'))\n",
    "\tmodel.add(Dense(num_classes, kernel_initializer='normal', activation='softmax'))\n",
    "\t# Compile model\n",
    "\tmodel.compile(loss='categorical_crossentropy', optimizer='adam', metrics=['accuracy'])\n",
    "\treturn model\n",
    "\n",
    "\n",
    "# fix random seed for reproducibility\n",
    "seed = 7\n",
    "np.random.seed(seed)\n",
    "\n",
    "# flatten 28*28 images to a 784 vector for each image\n",
    "num_pixels = X_train.shape[1] * X_train.shape[2]\n",
    "X_train = X_train.reshape(X_train.shape[0], num_pixels).astype('float32')\n",
    "X_test = X_test.reshape(X_test.shape[0], num_pixels).astype('float32')\n",
    "\n",
    "# normalize inputs from 0-255 to 0-1\n",
    "X_train = X_train / 255\n",
    "X_test = X_test / 255\n",
    "\n",
    "# one hot encode outputs\n",
    "y_train = np_utils.to_categorical(y_train)\n",
    "y_test = np_utils.to_categorical(y_test)\n",
    "num_classes = y_test.shape[1]\n",
    "\n",
    "\n",
    "# build the model\n",
    "model = baseline_model()\n",
    "# Fit the model\n",
    "model.fit(X_train, y_train, validation_data=(X_test, y_test), epochs=10, batch_size=200, verbose=2)\n",
    "# Final evaluation of the model\n",
    "scores = model.evaluate(X_test, y_test, verbose=0)\n",
    "print(\"Baseline Error: %.2f%%\" % (100-scores[1]*100))"
   ]
  },
  {
   "cell_type": "markdown",
   "metadata": {},
   "source": [
    "## Overfitting"
   ]
  },
  {
   "cell_type": "code",
   "execution_count": 45,
   "metadata": {},
   "outputs": [
    {
     "name": "stdout",
     "output_type": "stream",
     "text": [
      "Train on 18 samples, validate on 10000 samples\n",
      "Epoch 1/10\n",
      " - 3s - loss: 2.2611 - acc: 0.1111 - val_loss: 2.1296 - val_acc: 0.2652\n",
      "Epoch 2/10\n",
      " - 2s - loss: 1.5880 - acc: 0.7778 - val_loss: 1.9998 - val_acc: 0.3323\n",
      "Epoch 3/10\n",
      " - 2s - loss: 1.0800 - acc: 0.8889 - val_loss: 1.8835 - val_acc: 0.3837\n",
      "Epoch 4/10\n",
      " - 3s - loss: 0.7079 - acc: 1.0000 - val_loss: 1.7821 - val_acc: 0.4226\n",
      "Epoch 5/10\n",
      " - 3s - loss: 0.4616 - acc: 1.0000 - val_loss: 1.6875 - val_acc: 0.4610\n",
      "Epoch 6/10\n",
      " - 3s - loss: 0.2867 - acc: 1.0000 - val_loss: 1.6128 - val_acc: 0.4902\n",
      "Epoch 7/10\n",
      " - 3s - loss: 0.1805 - acc: 1.0000 - val_loss: 1.5550 - val_acc: 0.5079\n",
      "Epoch 8/10\n",
      " - 3s - loss: 0.1149 - acc: 1.0000 - val_loss: 1.5129 - val_acc: 0.5219\n",
      "Epoch 9/10\n",
      " - 3s - loss: 0.0741 - acc: 1.0000 - val_loss: 1.4853 - val_acc: 0.5301\n",
      "Epoch 10/10\n",
      " - 3s - loss: 0.0490 - acc: 1.0000 - val_loss: 1.4698 - val_acc: 0.5355\n",
      "Baseline Error: 46.45%\n",
      "Train on 100 samples, validate on 10000 samples\n",
      "Epoch 1/10\n",
      " - 3s - loss: 2.4231 - acc: 0.0500 - val_loss: 2.1669 - val_acc: 0.2375\n",
      "Epoch 2/10\n",
      " - 3s - loss: 1.9784 - acc: 0.4000 - val_loss: 1.9493 - val_acc: 0.4205\n",
      "Epoch 3/10\n",
      " - 3s - loss: 1.5395 - acc: 0.7100 - val_loss: 1.7872 - val_acc: 0.4958\n",
      "Epoch 4/10\n",
      " - 3s - loss: 1.2346 - acc: 0.8200 - val_loss: 1.6254 - val_acc: 0.5601\n",
      "Epoch 5/10\n",
      " - 3s - loss: 0.9703 - acc: 0.9100 - val_loss: 1.4729 - val_acc: 0.6113\n",
      "Epoch 6/10\n",
      " - 3s - loss: 0.7457 - acc: 0.9500 - val_loss: 1.3510 - val_acc: 0.6415\n",
      "Epoch 7/10\n",
      " - 3s - loss: 0.5746 - acc: 0.9600 - val_loss: 1.2594 - val_acc: 0.6544\n",
      "Epoch 8/10\n",
      " - 3s - loss: 0.4441 - acc: 0.9600 - val_loss: 1.1933 - val_acc: 0.6619\n",
      "Epoch 9/10\n",
      " - 3s - loss: 0.3437 - acc: 0.9800 - val_loss: 1.1462 - val_acc: 0.6652\n",
      "Epoch 10/10\n",
      " - 3s - loss: 0.2656 - acc: 0.9800 - val_loss: 1.1127 - val_acc: 0.6678\n",
      "Baseline Error: 33.22%\n",
      "Train on 1000 samples, validate on 10000 samples\n",
      "Epoch 1/10\n",
      " - 4s - loss: 1.9385 - acc: 0.4140 - val_loss: 1.3141 - val_acc: 0.7150\n",
      "Epoch 2/10\n",
      " - 3s - loss: 0.9525 - acc: 0.8130 - val_loss: 0.7931 - val_acc: 0.8009\n",
      "Epoch 3/10\n",
      " - 3s - loss: 0.5722 - acc: 0.8710 - val_loss: 0.5878 - val_acc: 0.8283\n",
      "Epoch 4/10\n",
      " - 3s - loss: 0.4060 - acc: 0.8990 - val_loss: 0.5019 - val_acc: 0.8454\n",
      "Epoch 5/10\n",
      " - 3s - loss: 0.3200 - acc: 0.9180 - val_loss: 0.4465 - val_acc: 0.8615\n",
      "Epoch 6/10\n",
      " - 3s - loss: 0.2588 - acc: 0.9340 - val_loss: 0.4299 - val_acc: 0.8663\n",
      "Epoch 7/10\n",
      " - 3s - loss: 0.2147 - acc: 0.9480 - val_loss: 0.4016 - val_acc: 0.8759\n",
      "Epoch 8/10\n",
      " - 3s - loss: 0.1775 - acc: 0.9600 - val_loss: 0.3930 - val_acc: 0.8810\n",
      "Epoch 9/10\n",
      " - 3s - loss: 0.1499 - acc: 0.9720 - val_loss: 0.3847 - val_acc: 0.8828\n",
      "Epoch 10/10\n",
      " - 3s - loss: 0.1285 - acc: 0.9800 - val_loss: 0.3767 - val_acc: 0.8841\n",
      "Baseline Error: 11.59%\n",
      "Train on 5000 samples, validate on 10000 samples\n",
      "Epoch 1/10\n",
      " - 6s - loss: 0.8595 - acc: 0.7624 - val_loss: 0.3883 - val_acc: 0.8915\n",
      "Epoch 2/10\n",
      " - 6s - loss: 0.2996 - acc: 0.9144 - val_loss: 0.3103 - val_acc: 0.9072\n",
      "Epoch 3/10\n",
      " - 5s - loss: 0.2232 - acc: 0.9360 - val_loss: 0.2736 - val_acc: 0.9214\n",
      "Epoch 4/10\n",
      " - 5s - loss: 0.1750 - acc: 0.9562 - val_loss: 0.2499 - val_acc: 0.9239\n",
      "Epoch 5/10\n",
      " - 5s - loss: 0.1345 - acc: 0.9686 - val_loss: 0.2360 - val_acc: 0.9302\n",
      "Epoch 6/10\n",
      " - 5s - loss: 0.1108 - acc: 0.9752 - val_loss: 0.2247 - val_acc: 0.9322\n",
      "Epoch 7/10\n",
      " - 5s - loss: 0.0887 - acc: 0.9792 - val_loss: 0.2257 - val_acc: 0.9320\n",
      "Epoch 8/10\n",
      " - 5s - loss: 0.0720 - acc: 0.9850 - val_loss: 0.2073 - val_acc: 0.9379\n",
      "Epoch 9/10\n",
      " - 5s - loss: 0.0564 - acc: 0.9898 - val_loss: 0.2053 - val_acc: 0.9385\n",
      "Epoch 10/10\n",
      " - 5s - loss: 0.0479 - acc: 0.9922 - val_loss: 0.2058 - val_acc: 0.9388\n",
      "Baseline Error: 6.12%\n",
      "Train on 10000 samples, validate on 10000 samples\n",
      "Epoch 1/10\n",
      " - 8s - loss: 0.6344 - acc: 0.8231 - val_loss: 0.3118 - val_acc: 0.9116\n",
      "Epoch 2/10\n",
      " - 8s - loss: 0.2511 - acc: 0.9295 - val_loss: 0.2457 - val_acc: 0.9299\n",
      "Epoch 3/10\n",
      " - 8s - loss: 0.1872 - acc: 0.9488 - val_loss: 0.2199 - val_acc: 0.9368\n",
      "Epoch 4/10\n",
      " - 8s - loss: 0.1426 - acc: 0.9597 - val_loss: 0.1949 - val_acc: 0.9432\n",
      "Epoch 5/10\n",
      " - 8s - loss: 0.1106 - acc: 0.9705 - val_loss: 0.1818 - val_acc: 0.9458\n",
      "Epoch 6/10\n",
      " - 8s - loss: 0.0853 - acc: 0.9798 - val_loss: 0.1704 - val_acc: 0.9470\n",
      "Epoch 7/10\n",
      " - 8s - loss: 0.0688 - acc: 0.9835 - val_loss: 0.1623 - val_acc: 0.9519\n",
      "Epoch 8/10\n",
      " - 8s - loss: 0.0532 - acc: 0.9890 - val_loss: 0.1537 - val_acc: 0.9544\n",
      "Epoch 9/10\n",
      " - 8s - loss: 0.0412 - acc: 0.9928 - val_loss: 0.1506 - val_acc: 0.9551\n",
      "Epoch 10/10\n",
      " - 8s - loss: 0.0330 - acc: 0.9951 - val_loss: 0.1442 - val_acc: 0.9570\n",
      "Baseline Error: 4.30%\n",
      "Train on 20000 samples, validate on 10000 samples\n",
      "Epoch 1/10\n",
      " - 14s - loss: 0.4714 - acc: 0.8659 - val_loss: 0.2474 - val_acc: 0.9295\n",
      "Epoch 2/10\n",
      " - 13s - loss: 0.1924 - acc: 0.9475 - val_loss: 0.1766 - val_acc: 0.9480\n",
      "Epoch 3/10\n",
      " - 13s - loss: 0.1323 - acc: 0.9638 - val_loss: 0.1531 - val_acc: 0.9541\n",
      "Epoch 4/10\n",
      " - 14s - loss: 0.0947 - acc: 0.9756 - val_loss: 0.1342 - val_acc: 0.9596\n",
      "Epoch 5/10\n",
      " - 13s - loss: 0.0709 - acc: 0.9804 - val_loss: 0.1124 - val_acc: 0.9672\n",
      "Epoch 6/10\n",
      " - 13s - loss: 0.0512 - acc: 0.9874 - val_loss: 0.1094 - val_acc: 0.9657\n",
      "Epoch 7/10\n",
      " - 13s - loss: 0.0398 - acc: 0.9903 - val_loss: 0.1119 - val_acc: 0.9660\n",
      "Epoch 8/10\n",
      " - 13s - loss: 0.0297 - acc: 0.9939 - val_loss: 0.0979 - val_acc: 0.9718\n",
      "Epoch 9/10\n",
      " - 14s - loss: 0.0213 - acc: 0.9966 - val_loss: 0.0990 - val_acc: 0.9716\n",
      "Epoch 10/10\n",
      " - 14s - loss: 0.0164 - acc: 0.9983 - val_loss: 0.0945 - val_acc: 0.9727\n",
      "Baseline Error: 2.73%\n",
      "Train on 30000 samples, validate on 10000 samples\n",
      "Epoch 1/10\n",
      " - 19s - loss: 0.3920 - acc: 0.8899 - val_loss: 0.1980 - val_acc: 0.9435\n",
      "Epoch 2/10\n",
      " - 19s - loss: 0.1598 - acc: 0.9535 - val_loss: 0.1390 - val_acc: 0.9601\n",
      "Epoch 3/10\n",
      " - 19s - loss: 0.1054 - acc: 0.9703 - val_loss: 0.1284 - val_acc: 0.9598\n",
      "Epoch 4/10\n",
      " - 19s - loss: 0.0770 - acc: 0.9785 - val_loss: 0.0984 - val_acc: 0.9704\n",
      "Epoch 5/10\n",
      " - 19s - loss: 0.0532 - acc: 0.9859 - val_loss: 0.0868 - val_acc: 0.9742\n",
      "Epoch 6/10\n",
      " - 19s - loss: 0.0398 - acc: 0.9906 - val_loss: 0.0832 - val_acc: 0.9738\n",
      "Epoch 7/10\n",
      " - 19s - loss: 0.0290 - acc: 0.9933 - val_loss: 0.0804 - val_acc: 0.9757\n",
      "Epoch 8/10\n",
      " - 19s - loss: 0.0214 - acc: 0.9959 - val_loss: 0.0838 - val_acc: 0.9745\n",
      "Epoch 9/10\n",
      " - 19s - loss: 0.0159 - acc: 0.9976 - val_loss: 0.0749 - val_acc: 0.9781\n",
      "Epoch 10/10\n",
      " - 19s - loss: 0.0117 - acc: 0.9984 - val_loss: 0.0745 - val_acc: 0.9788\n",
      "Baseline Error: 2.12%\n",
      "Train on 40000 samples, validate on 10000 samples\n",
      "Epoch 1/10\n",
      " - 25s - loss: 0.3418 - acc: 0.9030 - val_loss: 0.1746 - val_acc: 0.9491\n",
      "Epoch 2/10\n",
      " - 24s - loss: 0.1376 - acc: 0.9611 - val_loss: 0.1171 - val_acc: 0.9660\n",
      "Epoch 3/10\n",
      " - 25s - loss: 0.0894 - acc: 0.9745 - val_loss: 0.1022 - val_acc: 0.9706\n",
      "Epoch 4/10\n",
      " - 25s - loss: 0.0640 - acc: 0.9821 - val_loss: 0.0878 - val_acc: 0.9736\n",
      "Epoch 5/10\n",
      " - 24s - loss: 0.0456 - acc: 0.9877 - val_loss: 0.0737 - val_acc: 0.9793\n",
      "Epoch 6/10\n",
      " - 24s - loss: 0.0332 - acc: 0.9916 - val_loss: 0.0750 - val_acc: 0.9777\n",
      "Epoch 7/10\n",
      " - 24s - loss: 0.0241 - acc: 0.9945 - val_loss: 0.0722 - val_acc: 0.9780\n",
      "Epoch 8/10\n",
      " - 24s - loss: 0.0179 - acc: 0.9962 - val_loss: 0.0723 - val_acc: 0.9793\n",
      "Epoch 9/10\n",
      " - 24s - loss: 0.0128 - acc: 0.9979 - val_loss: 0.0676 - val_acc: 0.9795\n",
      "Epoch 10/10\n",
      " - 24s - loss: 0.0094 - acc: 0.9988 - val_loss: 0.0734 - val_acc: 0.9781\n",
      "Baseline Error: 2.19%\n",
      "Train on 50000 samples, validate on 10000 samples\n",
      "Epoch 1/10\n",
      " - 31s - loss: 0.3102 - acc: 0.9124 - val_loss: 0.1624 - val_acc: 0.9512\n",
      "Epoch 2/10\n",
      " - 30s - loss: 0.1253 - acc: 0.9639 - val_loss: 0.1022 - val_acc: 0.9698\n",
      "Epoch 3/10\n",
      " - 30s - loss: 0.0807 - acc: 0.9773 - val_loss: 0.0840 - val_acc: 0.9743\n",
      "Epoch 4/10\n",
      " - 30s - loss: 0.0568 - acc: 0.9838 - val_loss: 0.0806 - val_acc: 0.9739\n",
      "Epoch 5/10\n",
      " - 30s - loss: 0.0418 - acc: 0.9879 - val_loss: 0.0711 - val_acc: 0.9782\n",
      "Epoch 6/10\n",
      " - 31s - loss: 0.0306 - acc: 0.9923 - val_loss: 0.0696 - val_acc: 0.9772\n",
      "Epoch 7/10\n",
      " - 30s - loss: 0.0212 - acc: 0.9949 - val_loss: 0.0621 - val_acc: 0.9804\n",
      "Epoch 8/10\n",
      " - 30s - loss: 0.0167 - acc: 0.9965 - val_loss: 0.0659 - val_acc: 0.9800\n",
      "Epoch 9/10\n",
      " - 30s - loss: 0.0124 - acc: 0.9977 - val_loss: 0.0626 - val_acc: 0.9802\n",
      "Epoch 10/10\n",
      " - 30s - loss: 0.0081 - acc: 0.9989 - val_loss: 0.0639 - val_acc: 0.9805\n",
      "Baseline Error: 1.95%\n"
     ]
    }
   ],
   "source": [
    "# define baseline model\n",
    "def baseline_model():\n",
    "\t# create model\n",
    "\tmodel = Sequential()\n",
    "\tmodel.add(Dense(num_pixels, input_dim=num_pixels, kernel_initializer='normal', activation='relu'))\n",
    "\tmodel.add(Dense(num_classes, kernel_initializer='normal', activation='softmax'))\n",
    "\t# Compile model\n",
    "\tmodel.compile(loss='categorical_crossentropy', optimizer='adam', metrics=['accuracy'])\n",
    "\treturn model\n",
    "\n",
    "steps=[18,100,1000,5000,10000,20000,30000,40000,50000]\n",
    "errorPerStep=dict()\n",
    "\n",
    "# fix random seed for reproducibility\n",
    "seed = 7\n",
    "np.random.seed(seed)\n",
    "\n",
    "for step in steps:\n",
    "    # load data\n",
    "    (X_train, y_train), (X_test, y_test) = mnist.load_data()\n",
    "\n",
    "    X_train=X_train[0:step]\n",
    "    y_train=y_train[0:step]\n",
    "\n",
    "    # flatten 28*28 images to a 784 vector for each image\n",
    "    num_pixels = X_train.shape[1] * X_train.shape[2]\n",
    "    X_train = X_train.reshape(X_train.shape[0], num_pixels).astype('float32')\n",
    "    X_test = X_test.reshape(X_test.shape[0], num_pixels).astype('float32')\n",
    "\n",
    "    # normalize inputs from 0-255 to 0-1\n",
    "    X_train = X_train / 255\n",
    "    X_test = X_test / 255\n",
    "\n",
    "    # one hot encode outputs\n",
    "    y_train = np_utils.to_categorical(y_train)\n",
    "    y_test = np_utils.to_categorical(y_test)\n",
    "    num_classes = y_test.shape[1]\n",
    "\n",
    "\n",
    "\n",
    "    # build the model\n",
    "    model = baseline_model()\n",
    "    # Fit the model\n",
    "    model.fit(X_train, y_train, validation_data=(X_test, y_test), epochs=10, batch_size=200, verbose=2)\n",
    "    # Final evaluation of the model\n",
    "    scores = model.evaluate(X_test, y_test, verbose=0)\n",
    "    print(\"Baseline Error: %.2f%%\" % (100-scores[1]*100))\n",
    "    errorPerStep[step]=(100-scores[1]*100)"
   ]
  },
  {
   "cell_type": "code",
   "execution_count": 70,
   "metadata": {},
   "outputs": [
    {
     "name": "stdout",
     "output_type": "stream",
     "text": [
      "[0.06385582257292118, 0.9805]\n"
     ]
    }
   ],
   "source": [
    "print(scores)"
   ]
  },
  {
   "cell_type": "code",
   "execution_count": 54,
   "metadata": {},
   "outputs": [
    {
     "name": "stdout",
     "output_type": "stream",
     "text": [
      "{18: 46.45, 100: 33.22, 1000: 11.590000000000003, 5000: 6.1200000000000045, 10000: 4.299999999999997, 20000: 2.730000000000004, 30000: 2.1200000000000045, 40000: 2.1899999999999977, 50000: 1.9500000000000028}\n"
     ]
    }
   ],
   "source": [
    "print(errorPerStep)\n",
    "x=[]\n",
    "y=[]\n",
    "for e in errorPerStep:\n",
    "    x.append(e)\n",
    "    y.append(errorPerStep[e])\n"
   ]
  },
  {
   "cell_type": "code",
   "execution_count": 62,
   "metadata": {},
   "outputs": [
    {
     "data": {
      "image/png": "[encoded data removed]",
      "text/plain": [
       "<Figure size 432x288 with 1 Axes>"
      ]
     },
     "metadata": {},
     "output_type": "display_data"
    }
   ],
   "source": [
    "plt.xlabel(\"Training Samples\")\n",
    "plt.ylabel(\"Baseline Error (%)\")\n",
    "plt.plot(x,y,'o-')\n",
    "plt.savefig(\"test.pdf\",format=\"pdf\")"
   ]
  },
  {
   "cell_type": "code",
   "execution_count": 3,
   "metadata": {},
   "outputs": [
    {
     "ename": "NameError",
     "evalue": "name 'model' is not defined",
     "output_type": "error",
     "traceback": [
      "\u001b[0;31m---------------------------------------------------------------------------\u001b[0m",
      "\u001b[0;31mNameError\u001b[0m                                 Traceback (most recent call last)",
      "\u001b[0;32m<ipython-input-3-f8e164c5fda5>\u001b[0m in \u001b[0;36m<module>\u001b[0;34m()\u001b[0m\n\u001b[1;32m     12\u001b[0m \u001b[0;34m\u001b[0m\u001b[0m\n\u001b[1;32m     13\u001b[0m \u001b[0;34m\u001b[0m\u001b[0m\n\u001b[0;32m---> 14\u001b[0;31m \u001b[0mr\u001b[0m\u001b[0;34m=\u001b[0m\u001b[0mmodel\u001b[0m\u001b[0;34m.\u001b[0m\u001b[0mpredict\u001b[0m\u001b[0;34m(\u001b[0m\u001b[0mtest_im\u001b[0m\u001b[0;34m)\u001b[0m\u001b[0;34m\u001b[0m\u001b[0m\n\u001b[0m\u001b[1;32m     15\u001b[0m \u001b[0;34m\u001b[0m\u001b[0m\n\u001b[1;32m     16\u001b[0m \u001b[0mitemindex\u001b[0m \u001b[0;34m=\u001b[0m \u001b[0mnumpy\u001b[0m\u001b[0;34m.\u001b[0m\u001b[0mwhere\u001b[0m\u001b[0;34m(\u001b[0m\u001b[0mr\u001b[0m\u001b[0;34m[\u001b[0m\u001b[0;36m0\u001b[0m\u001b[0;34m]\u001b[0m\u001b[0;34m==\u001b[0m\u001b[0;36m1\u001b[0m\u001b[0;34m)\u001b[0m\u001b[0;34m\u001b[0m\u001b[0m\n",
      "\u001b[0;31mNameError\u001b[0m: name 'model' is not defined"
     ]
    },
    {
     "data": {
      "image/png": "[encoded data removed]",
      "text/plain": [
       "<Figure size 432x288 with 1 Axes>"
      ]
     },
     "metadata": {
      "needs_background": "light"
     },
     "output_type": "display_data"
    }
   ],
   "source": [
    "(X_train, y_train), (X_test, y_test) = mnist.load_data()\n",
    "\n",
    "#print(X_train.shape)\n",
    "test_im = X_train[25]\n",
    "#print(test_im.shape)\n",
    "plt.imshow(test_im.reshape(28,28)*-1, cmap=plt.get_cmap('gray'), interpolation='none')\n",
    "\n",
    "num_pixels = X_train.shape[1] * X_train.shape[2]\n",
    "# as we are dealing with only one image, we have to restrict the array to a 1D * 784\n",
    "test_im = test_im.reshape(1, num_pixels).astype('float32')\n",
    "#test_im = test_im.reshape(test_im.shape[0], 1).astype('float32')\n",
    "\n",
    "\n",
    "r=model.predict(test_im)\n",
    "\n",
    "itemindex = numpy.where(r[0]==1)\n",
    "print(\"The model predicts: %i\"%itemindex[0])"
   ]
  },
  {
   "cell_type": "markdown",
   "metadata": {},
   "source": [
    "## Cross-Validation\n",
    "im Naive-Bayes-Beispiel"
   ]
  },
  {
   "cell_type": "code",
   "execution_count": null,
   "metadata": {},
   "outputs": [],
   "source": []
  }
 ],
 "metadata": {
  "kernelspec": {
   "display_name": "Python 3",
   "language": "python",
   "name": "python3"
  },
  "language_info": {
   "codemirror_mode": {
    "name": "ipython",
    "version": 3
   },
   "file_extension": ".py",
   "mimetype": "text/x-python",
   "name": "python",
   "nbconvert_exporter": "python",
   "pygments_lexer": "ipython3",
   "version": "3.6.6"
  }
 },
 "nbformat": 4,
 "nbformat_minor": 2
}
