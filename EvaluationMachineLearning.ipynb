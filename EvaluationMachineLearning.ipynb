{
 "cells": [
  {
   "cell_type": "markdown",
   "metadata": {},
   "source": [
    "# Evaluating Machine Learning Algorithms - Extended Examples\n",
    "\n",
    "## Preparations\n",
    "\n",
    "* Download [Anaconda with Python 3.6](https://www.anaconda.com/download) to install a nearly complete Python enviroment for data science projects\n",
    "* Install [Keras: The Python Deep Learning Library](https://keras.io/) and other missing packages with the following command: ```conda install keras```\n",
    "* Start your local Jupyter instance with ```jupyter notebook```\n",
    "\n",
    "If you cannot see line numbers press ```Shift+L```to switch them on or check the ```View``` menu."
   ]
  },
  {
   "cell_type": "code",
   "execution_count": 9,
   "metadata": {},
   "outputs": [],
   "source": [
    "# The %... is an iPython thing, and is not part of the Python language.\n",
    "# In this case we're just telling the plotting library to draw things on\n",
    "# the notebook, instead of on a separate window.\n",
    "%matplotlib inline\n",
    "# the import statements load differnt Python packages that we need for the tutorial\n",
    "# See all the \"as ...\" contructs? They're just aliasing the package names.\n",
    "# That way we can call methods like plt.plot() instead of matplotlib.pyplot.plot().\n",
    "# packages for scientif computing and visualization\n",
    "import numpy as np\n",
    "import scipy as sp\n",
    "import matplotlib as mpl\n",
    "import matplotlib.cm as cm\n",
    "import matplotlib.pyplot as plt\n",
    "import pandas as pd\n",
    "import time\n",
    "# configuration of the notebook\n",
    "pd.set_option('display.width', 500)\n",
    "pd.set_option('display.max_columns', 100)\n",
    "pd.set_option('display.notebook_repr_html', True)\n",
    "import seaborn as sns\n",
    "sns.set_style(\"whitegrid\")\n",
    "sns.set_context(\"notebook\")\n",
    "\n",
    "# machine learning library imports\n",
    "from keras.datasets import mnist\n",
    "from keras.models import Sequential\n",
    "from keras.layers import Dense\n",
    "from keras.layers import Dropout\n",
    "from keras.utils import np_utils"
   ]
  },
  {
   "cell_type": "markdown",
   "metadata": {},
   "source": [
    "## Setting Up the Experiment\n",
    "\n",
    "In this example, we will rely on the [NIST MNIST data set](http://yann.lecun.com/exdb/mnist/ ), a data set for the recognition of hand-written digits. MNIST is a data set that has been used by the [NIST](https://www.nist.gov/) such as the discussed [TREC campaign](https://trec.nist.gov/).\n",
    "\n",
    "The following script will display some sample digits to give an example of the contents of the data set.\n"
   ]
  },
  {
   "cell_type": "code",
   "execution_count": 70,
   "metadata": {},
   "outputs": [
    {
     "data": {
      "image/png": "[encoded data removed]",
      "text/plain": [
       "<Figure size 432x288 with 4 Axes>"
      ]
     },
     "metadata": {},
     "output_type": "display_data"
    }
   ],
   "source": [
    "# load (download if needed) the MNIST dataset of handwritten numbers\n",
    "# we will get a training and test set consisting of bitmaps \n",
    "# in the X_* arrays and the associated labels in the y_* arrays\n",
    "(X_train, y_train), (X_test, y_test) = mnist.load_data()\n",
    "\n",
    "# plot 4 images as gray scale images using subplots without axis labels\n",
    "plt.subplot(221)\n",
    "plt.axis('off')\n",
    "# -1 inverts the image because of aesthetical reasons\n",
    "plt.imshow(X_train[0]*-1, cmap=plt.get_cmap('gray'))\n",
    "plt.subplot(222)\n",
    "plt.axis('off')\n",
    "plt.imshow(X_train[1]*-1, cmap=plt.get_cmap('gray'))\n",
    "plt.subplot(223)\n",
    "plt.axis('off')\n",
    "plt.imshow(X_train[2]*-1, cmap=plt.get_cmap('gray'))\n",
    "plt.subplot(224)\n",
    "plt.axis('off')\n",
    "plt.imshow(X_train[3]*-1, cmap=plt.get_cmap('gray'))\n",
    "\n",
    "# show the plot\n",
    "#plt.savefig(\"test.pdf\",format=\"pdf\")\n",
    "plt.show()"
   ]
  },
  {
   "cell_type": "markdown",
   "metadata": {},
   "source": [
    "Next, we define out machine learning model with different layers. Roughly speaking, the function baseline_model() defines how the neural network looks like. For more details, see the [documentation](https://keras.io/getting-started/sequential-model-guide/)."
   ]
  },
  {
   "cell_type": "code",
   "execution_count": 72,
   "metadata": {},
   "outputs": [
    {
     "name": "stdout",
     "output_type": "stream",
     "text": [
      "Train on 60000 samples, validate on 10000 samples\n",
      "Epoch 1/10\n",
      " - 36s - loss: 0.2797 - acc: 0.9205 - val_loss: 0.1411 - val_acc: 0.9576\n",
      "Epoch 2/10\n",
      " - 37s - loss: 0.1116 - acc: 0.9675 - val_loss: 0.0922 - val_acc: 0.9713\n",
      "Epoch 3/10\n",
      " - 37s - loss: 0.0717 - acc: 0.9798 - val_loss: 0.0790 - val_acc: 0.9764\n",
      "Epoch 4/10\n",
      " - 44s - loss: 0.0502 - acc: 0.9861 - val_loss: 0.0749 - val_acc: 0.9770\n",
      "Epoch 5/10\n",
      " - 43s - loss: 0.0369 - acc: 0.9895 - val_loss: 0.0665 - val_acc: 0.9791\n",
      "Epoch 6/10\n",
      " - 45s - loss: 0.0266 - acc: 0.9930 - val_loss: 0.0627 - val_acc: 0.9802\n",
      "Epoch 7/10\n",
      " - 37s - loss: 0.0207 - acc: 0.9946 - val_loss: 0.0632 - val_acc: 0.9807\n",
      "Epoch 8/10\n",
      " - 36s - loss: 0.0139 - acc: 0.9971 - val_loss: 0.0621 - val_acc: 0.9807\n",
      "Epoch 9/10\n",
      " - 36s - loss: 0.0105 - acc: 0.9979 - val_loss: 0.0585 - val_acc: 0.9817\n",
      "Epoch 10/10\n",
      " - 37s - loss: 0.0078 - acc: 0.9986 - val_loss: 0.0577 - val_acc: 0.9819\n",
      "Baseline Error: 1.81%\n"
     ]
    }
   ],
   "source": [
    "# define baseline model\n",
    "def baseline_model():\n",
    "\t# create model\n",
    "\tmodel = Sequential()\n",
    "\tmodel.add(Dense(num_pixels, input_dim=num_pixels, kernel_initializer='normal', activation='relu'))\n",
    "\tmodel.add(Dense(num_classes, kernel_initializer='normal', activation='softmax'))\n",
    "\t# Compile model, use logarithmic loss for evaluation\n",
    "\tmodel.compile(loss='categorical_crossentropy', optimizer='adam', metrics=['accuracy'])\n",
    "\treturn model\n",
    "\n",
    "\n",
    "# fix random seed for reproducibility\n",
    "seed = 7\n",
    "np.random.seed(seed)\n",
    "\n",
    "# flatten 28*28 images from the MNIST data set to a 784 vector for each image\n",
    "num_pixels = X_train.shape[1] * X_train.shape[2]\n",
    "X_train = X_train.reshape(X_train.shape[0], num_pixels).astype('float32')\n",
    "X_test = X_test.reshape(X_test.shape[0], num_pixels).astype('float32')\n",
    "\n",
    "# normalize inputs from 0-255 to 0-1\n",
    "X_train = X_train / 255\n",
    "X_test = X_test / 255\n",
    "\n",
    "# one hot encode outputs\n",
    "y_train = np_utils.to_categorical(y_train)\n",
    "y_test = np_utils.to_categorical(y_test)\n",
    "num_classes = y_test.shape[1]\n",
    "\n",
    "\n",
    "# build the model\n",
    "model = baseline_model()\n",
    "# fit the model, i.e., start the actual learning\n",
    "model.fit(X_train, y_train, validation_data=(X_test, y_test), epochs=10, batch_size=200, verbose=2)\n",
    "# Final evaluation of the model\n",
    "scores = model.evaluate(X_test, y_test, verbose=0)\n",
    "# print the error rate of the algorithm\n",
    "print(\"Baseline Error: %.2f%%\" % (100-scores[1]*100))"
   ]
  },
  {
   "cell_type": "markdown",
   "metadata": {},
   "source": [
    "## Overfitting\n",
    "\n",
    "In the next cell, we will use very few training data up to the same amount of training data used before to illustrate the overfitting phenomenon."
   ]
  },
  {
   "cell_type": "code",
   "execution_count": 4,
   "metadata": {},
   "outputs": [
    {
     "name": "stdout",
     "output_type": "stream",
     "text": [
      "Train on 18 samples, validate on 10000 samples\n",
      "Epoch 1/10\n",
      " - 3s - loss: 2.2611 - acc: 0.1111 - val_loss: 2.1296 - val_acc: 0.2652\n",
      "Epoch 2/10\n",
      " - 2s - loss: 1.5880 - acc: 0.7778 - val_loss: 1.9998 - val_acc: 0.3323\n",
      "Epoch 3/10\n",
      " - 3s - loss: 1.0800 - acc: 0.8889 - val_loss: 1.8929 - val_acc: 0.3801\n",
      "Epoch 4/10\n",
      " - 3s - loss: 0.7361 - acc: 1.0000 - val_loss: 1.7894 - val_acc: 0.4209\n",
      "Epoch 5/10\n",
      " - 3s - loss: 0.4807 - acc: 1.0000 - val_loss: 1.6933 - val_acc: 0.4593\n",
      "Epoch 6/10\n",
      " - 3s - loss: 0.2989 - acc: 1.0000 - val_loss: 1.6176 - val_acc: 0.4888\n",
      "Epoch 7/10\n",
      " - 3s - loss: 0.1881 - acc: 1.0000 - val_loss: 1.5588 - val_acc: 0.5063\n",
      "Epoch 8/10\n",
      " - 3s - loss: 0.1196 - acc: 1.0000 - val_loss: 1.5155 - val_acc: 0.5208\n",
      "Epoch 9/10\n",
      " - 3s - loss: 0.0769 - acc: 1.0000 - val_loss: 1.4869 - val_acc: 0.5298\n",
      "Epoch 10/10\n",
      " - 3s - loss: 0.0506 - acc: 1.0000 - val_loss: 1.4705 - val_acc: 0.5345\n",
      "Baseline Error: 46.55%\n",
      "Train on 100 samples, validate on 10000 samples\n",
      "Epoch 1/10\n",
      " - 3s - loss: 2.4231 - acc: 0.0500 - val_loss: 2.1669 - val_acc: 0.2375\n",
      "Epoch 2/10\n",
      " - 3s - loss: 1.9784 - acc: 0.4000 - val_loss: 1.9493 - val_acc: 0.4205\n",
      "Epoch 3/10\n",
      " - 3s - loss: 1.5395 - acc: 0.7100 - val_loss: 1.7734 - val_acc: 0.4999\n",
      "Epoch 4/10\n",
      " - 3s - loss: 1.2084 - acc: 0.8400 - val_loss: 1.6050 - val_acc: 0.5663\n",
      "Epoch 5/10\n",
      " - 3s - loss: 0.9355 - acc: 0.9100 - val_loss: 1.4626 - val_acc: 0.6132\n",
      "Epoch 6/10\n",
      " - 3s - loss: 0.7277 - acc: 0.9500 - val_loss: 1.3462 - val_acc: 0.6429\n",
      "Epoch 7/10\n",
      " - 3s - loss: 0.5651 - acc: 0.9600 - val_loss: 1.2561 - val_acc: 0.6548\n",
      "Epoch 8/10\n",
      " - 3s - loss: 0.4370 - acc: 0.9600 - val_loss: 1.1915 - val_acc: 0.6623\n",
      "Epoch 9/10\n",
      " - 3s - loss: 0.3384 - acc: 0.9800 - val_loss: 1.1457 - val_acc: 0.6654\n",
      "Epoch 10/10\n",
      " - 3s - loss: 0.2618 - acc: 0.9900 - val_loss: 1.1130 - val_acc: 0.6679\n",
      "Baseline Error: 33.21%\n",
      "Train on 1000 samples, validate on 10000 samples\n",
      "Epoch 1/10\n",
      " - 4s - loss: 1.8976 - acc: 0.4350 - val_loss: 1.2778 - val_acc: 0.7272\n",
      "Epoch 2/10\n",
      " - 3s - loss: 0.9248 - acc: 0.8150 - val_loss: 0.7777 - val_acc: 0.8027\n",
      "Epoch 3/10\n",
      " - 4s - loss: 0.5600 - acc: 0.8730 - val_loss: 0.5807 - val_acc: 0.8297\n",
      "Epoch 4/10\n",
      " - 3s - loss: 0.3998 - acc: 0.9060 - val_loss: 0.4973 - val_acc: 0.8469\n",
      "Epoch 5/10\n",
      " - 3s - loss: 0.3153 - acc: 0.9220 - val_loss: 0.4438 - val_acc: 0.8621\n",
      "Epoch 6/10\n",
      " - 3s - loss: 0.2552 - acc: 0.9390 - val_loss: 0.4281 - val_acc: 0.8669\n",
      "Epoch 7/10\n",
      " - 3s - loss: 0.2114 - acc: 0.9500 - val_loss: 0.4007 - val_acc: 0.8760\n",
      "Epoch 8/10\n",
      " - 3s - loss: 0.1744 - acc: 0.9600 - val_loss: 0.3925 - val_acc: 0.8815\n",
      "Epoch 9/10\n",
      " - 4s - loss: 0.1472 - acc: 0.9730 - val_loss: 0.3849 - val_acc: 0.8824\n",
      "Epoch 10/10\n",
      " - 3s - loss: 0.1260 - acc: 0.9830 - val_loss: 0.3771 - val_acc: 0.8842\n",
      "Baseline Error: 11.58%\n",
      "Train on 5000 samples, validate on 10000 samples\n",
      "Epoch 1/10\n",
      " - 6s - loss: 0.8799 - acc: 0.7566 - val_loss: 0.3909 - val_acc: 0.8914\n",
      "Epoch 2/10\n",
      " - 6s - loss: 0.3014 - acc: 0.9148 - val_loss: 0.3117 - val_acc: 0.9059\n",
      "Epoch 3/10\n",
      " - 6s - loss: 0.2247 - acc: 0.9354 - val_loss: 0.2750 - val_acc: 0.9203\n",
      "Epoch 4/10\n",
      " - 6s - loss: 0.1762 - acc: 0.9556 - val_loss: 0.2511 - val_acc: 0.9236\n",
      "Epoch 5/10\n",
      " - 6s - loss: 0.1356 - acc: 0.9680 - val_loss: 0.2368 - val_acc: 0.9298\n",
      "Epoch 6/10\n",
      " - 6s - loss: 0.1118 - acc: 0.9748 - val_loss: 0.2260 - val_acc: 0.9321\n",
      "Epoch 7/10\n",
      " - 6s - loss: 0.0897 - acc: 0.9792 - val_loss: 0.2264 - val_acc: 0.9323\n",
      "Epoch 8/10\n",
      " - 6s - loss: 0.0728 - acc: 0.9848 - val_loss: 0.2086 - val_acc: 0.9375\n",
      "Epoch 9/10\n",
      " - 6s - loss: 0.0572 - acc: 0.9896 - val_loss: 0.2060 - val_acc: 0.9388\n",
      "Epoch 10/10\n",
      " - 6s - loss: 0.0487 - acc: 0.9922 - val_loss: 0.2068 - val_acc: 0.9389\n",
      "Baseline Error: 6.11%\n",
      "Train on 10000 samples, validate on 10000 samples\n",
      "Epoch 1/10\n",
      " - 9s - loss: 0.6345 - acc: 0.8230 - val_loss: 0.3117 - val_acc: 0.9112\n",
      "Epoch 2/10\n",
      " - 8s - loss: 0.2510 - acc: 0.9295 - val_loss: 0.2454 - val_acc: 0.9295\n",
      "Epoch 3/10\n",
      " - 9s - loss: 0.1873 - acc: 0.9489 - val_loss: 0.2203 - val_acc: 0.9364\n",
      "Epoch 4/10\n",
      " - 9s - loss: 0.1426 - acc: 0.9598 - val_loss: 0.1948 - val_acc: 0.9430\n",
      "Epoch 5/10\n",
      " - 8s - loss: 0.1104 - acc: 0.9704 - val_loss: 0.1818 - val_acc: 0.9457\n",
      "Epoch 6/10\n",
      " - 9s - loss: 0.0852 - acc: 0.9797 - val_loss: 0.1699 - val_acc: 0.9472\n",
      "Epoch 7/10\n",
      " - 9s - loss: 0.0687 - acc: 0.9835 - val_loss: 0.1622 - val_acc: 0.9522\n",
      "Epoch 8/10\n",
      " - 9s - loss: 0.0531 - acc: 0.9893 - val_loss: 0.1535 - val_acc: 0.9544\n",
      "Epoch 9/10\n",
      " - 9s - loss: 0.0412 - acc: 0.9928 - val_loss: 0.1503 - val_acc: 0.9547\n",
      "Epoch 10/10\n",
      " - 9s - loss: 0.0330 - acc: 0.9951 - val_loss: 0.1445 - val_acc: 0.9573\n",
      "Baseline Error: 4.27%\n",
      "Train on 20000 samples, validate on 10000 samples\n",
      "Epoch 1/10\n",
      " - 15s - loss: 0.4717 - acc: 0.8660 - val_loss: 0.2475 - val_acc: 0.9294\n",
      "Epoch 2/10\n",
      " - 14s - loss: 0.1925 - acc: 0.9472 - val_loss: 0.1768 - val_acc: 0.9482\n",
      "Epoch 3/10\n",
      " - 14s - loss: 0.1326 - acc: 0.9635 - val_loss: 0.1536 - val_acc: 0.9539\n",
      "Epoch 4/10\n",
      " - 14s - loss: 0.0947 - acc: 0.9753 - val_loss: 0.1333 - val_acc: 0.9597\n",
      "Epoch 5/10\n",
      " - 14s - loss: 0.0709 - acc: 0.9806 - val_loss: 0.1125 - val_acc: 0.9672\n",
      "Epoch 6/10\n",
      " - 14s - loss: 0.0512 - acc: 0.9876 - val_loss: 0.1087 - val_acc: 0.9660\n",
      "Epoch 7/10\n",
      " - 14s - loss: 0.0395 - acc: 0.9905 - val_loss: 0.1110 - val_acc: 0.9671\n",
      "Epoch 8/10\n",
      " - 14s - loss: 0.0295 - acc: 0.9939 - val_loss: 0.0976 - val_acc: 0.9713\n",
      "Epoch 9/10\n",
      " - 15s - loss: 0.0214 - acc: 0.9966 - val_loss: 0.0975 - val_acc: 0.9720\n",
      "Epoch 10/10\n",
      " - 14s - loss: 0.0164 - acc: 0.9982 - val_loss: 0.0939 - val_acc: 0.9726\n",
      "Baseline Error: 2.74%\n",
      "Train on 30000 samples, validate on 10000 samples\n",
      "Epoch 1/10\n",
      " - 20s - loss: 0.3967 - acc: 0.8879 - val_loss: 0.1988 - val_acc: 0.9433\n",
      "Epoch 2/10\n",
      " - 20s - loss: 0.1608 - acc: 0.9531 - val_loss: 0.1400 - val_acc: 0.9596\n",
      "Epoch 3/10\n",
      " - 20s - loss: 0.1064 - acc: 0.9700 - val_loss: 0.1288 - val_acc: 0.9591\n",
      "Epoch 4/10\n",
      " - 19s - loss: 0.0777 - acc: 0.9784 - val_loss: 0.0983 - val_acc: 0.9703\n",
      "Epoch 5/10\n",
      " - 19s - loss: 0.0537 - acc: 0.9854 - val_loss: 0.0877 - val_acc: 0.9740\n",
      "Epoch 6/10\n",
      " - 19s - loss: 0.0401 - acc: 0.9906 - val_loss: 0.0836 - val_acc: 0.9739\n",
      "Epoch 7/10\n",
      " - 19s - loss: 0.0292 - acc: 0.9933 - val_loss: 0.0810 - val_acc: 0.9752\n",
      "Epoch 8/10\n",
      " - 19s - loss: 0.0218 - acc: 0.9958 - val_loss: 0.0834 - val_acc: 0.9741\n",
      "Epoch 9/10\n",
      " - 19s - loss: 0.0161 - acc: 0.9974 - val_loss: 0.0747 - val_acc: 0.9778\n",
      "Epoch 10/10\n",
      " - 19s - loss: 0.0117 - acc: 0.9984 - val_loss: 0.0748 - val_acc: 0.9787\n",
      "Baseline Error: 2.13%\n",
      "Train on 40000 samples, validate on 10000 samples\n",
      "Epoch 1/10\n",
      " - 284s - loss: 0.3397 - acc: 0.9037 - val_loss: 0.1739 - val_acc: 0.9498\n",
      "Epoch 2/10\n",
      " - 26s - loss: 0.1373 - acc: 0.9612 - val_loss: 0.1170 - val_acc: 0.9666\n",
      "Epoch 3/10\n",
      " - 25s - loss: 0.0893 - acc: 0.9745 - val_loss: 0.1034 - val_acc: 0.9700\n",
      "Epoch 4/10\n",
      " - 25s - loss: 0.0637 - acc: 0.9821 - val_loss: 0.0881 - val_acc: 0.9729\n",
      "Epoch 5/10\n",
      " - 25s - loss: 0.0453 - acc: 0.9879 - val_loss: 0.0734 - val_acc: 0.9793\n",
      "Epoch 6/10\n",
      " - 25s - loss: 0.0331 - acc: 0.9916 - val_loss: 0.0758 - val_acc: 0.9772\n",
      "Epoch 7/10\n",
      " - 24s - loss: 0.0239 - acc: 0.9945 - val_loss: 0.0716 - val_acc: 0.9778\n",
      "Epoch 8/10\n",
      " - 24s - loss: 0.0178 - acc: 0.9963 - val_loss: 0.0737 - val_acc: 0.9794\n",
      "Epoch 9/10\n",
      " - 24s - loss: 0.0128 - acc: 0.9980 - val_loss: 0.0687 - val_acc: 0.9790\n",
      "Epoch 10/10\n",
      " - 25s - loss: 0.0092 - acc: 0.9990 - val_loss: 0.0736 - val_acc: 0.9778\n",
      "Baseline Error: 2.22%\n",
      "Train on 50000 samples, validate on 10000 samples\n",
      "Epoch 1/10\n",
      " - 30s - loss: 0.3109 - acc: 0.9123 - val_loss: 0.1631 - val_acc: 0.9518\n",
      "Epoch 2/10\n",
      " - 30s - loss: 0.1253 - acc: 0.9639 - val_loss: 0.1020 - val_acc: 0.9696\n",
      "Epoch 3/10\n",
      " - 30s - loss: 0.0804 - acc: 0.9773 - val_loss: 0.0841 - val_acc: 0.9736\n",
      "Epoch 4/10\n",
      " - 30s - loss: 0.0567 - acc: 0.9838 - val_loss: 0.0792 - val_acc: 0.9744\n",
      "Epoch 5/10\n",
      " - 30s - loss: 0.0414 - acc: 0.9881 - val_loss: 0.0711 - val_acc: 0.9774\n",
      "Epoch 6/10\n",
      " - 30s - loss: 0.0306 - acc: 0.9921 - val_loss: 0.0693 - val_acc: 0.9784\n",
      "Epoch 7/10\n",
      " - 30s - loss: 0.0213 - acc: 0.9948 - val_loss: 0.0622 - val_acc: 0.9805\n",
      "Epoch 8/10\n",
      " - 30s - loss: 0.0167 - acc: 0.9963 - val_loss: 0.0654 - val_acc: 0.9802\n",
      "Epoch 9/10\n",
      " - 30s - loss: 0.0125 - acc: 0.9975 - val_loss: 0.0621 - val_acc: 0.9807\n",
      "Epoch 10/10\n",
      " - 30s - loss: 0.0081 - acc: 0.9990 - val_loss: 0.0642 - val_acc: 0.9804\n",
      "Baseline Error: 1.96%\n"
     ]
    }
   ],
   "source": [
    "# define baseline model\n",
    "def baseline_model():\n",
    "\t# create model\n",
    "\tmodel = Sequential()\n",
    "\tmodel.add(Dense(num_pixels, input_dim=num_pixels, kernel_initializer='normal', activation='relu'))\n",
    "\tmodel.add(Dense(num_classes, kernel_initializer='normal', activation='softmax'))\n",
    "\t# Compile model\n",
    "\tmodel.compile(loss='categorical_crossentropy', optimizer='adam', metrics=['accuracy'])\n",
    "\treturn model\n",
    "\n",
    "# the steps indicate the size of the training sample\n",
    "steps=[18,100,1000,5000,10000,20000,30000,40000,50000]\n",
    "# this dict (basically a hashmap) holds the error rate for each iteration\n",
    "errorPerStep=dict()\n",
    "\n",
    "# fix random seed for reproducibility\n",
    "seed = 7\n",
    "np.random.seed(seed)\n",
    "\n",
    "for step in steps:\n",
    "    # load data\n",
    "    (X_train, y_train), (X_test, y_test) = mnist.load_data()\n",
    "\n",
    "    # limit the training data size to the current step, the : means \"from 0 to step\"\n",
    "    X_train=X_train[0:step]\n",
    "    y_train=y_train[0:step]\n",
    "\n",
    "    # flatten 28*28 images to a 784 vector for each image\n",
    "    num_pixels = X_train.shape[1] * X_train.shape[2]\n",
    "    X_train = X_train.reshape(X_train.shape[0], num_pixels).astype('float32')\n",
    "    X_test = X_test.reshape(X_test.shape[0], num_pixels).astype('float32')\n",
    "\n",
    "    # normalize inputs from 0-255 to 0-1\n",
    "    X_train = X_train / 255\n",
    "    X_test = X_test / 255\n",
    "\n",
    "    # one hot encode outputs\n",
    "    y_train = np_utils.to_categorical(y_train)\n",
    "    y_test = np_utils.to_categorical(y_test)\n",
    "    num_classes = y_test.shape[1]\n",
    "\n",
    "\n",
    "\n",
    "    # build the model\n",
    "    model = baseline_model()\n",
    "    # Fit the model\n",
    "    model.fit(X_train, y_train, validation_data=(X_test, y_test), epochs=10, batch_size=200, verbose=2)\n",
    "    # Final evaluation of the model\n",
    "    scores = model.evaluate(X_test, y_test, verbose=0)\n",
    "    print(\"Baseline Error: %.2f%%\" % (100-scores[1]*100))\n",
    "    errorPerStep[step]=(100-scores[1]*100)"
   ]
  },
  {
   "cell_type": "markdown",
   "metadata": {},
   "source": [
    "Next, we will illustrate our results."
   ]
  },
  {
   "cell_type": "code",
   "execution_count": 159,
   "metadata": {},
   "outputs": [
    {
     "name": "stdout",
     "output_type": "stream",
     "text": [
      "{18: 46.550000000000004, 100: 33.209999999999994, 1000: 11.579999999999998, 5000: 6.109999999999999, 10000: 4.269999999999996, 20000: 2.739999999999995, 30000: 2.1299999999999955, 40000: 2.219999999999999, 50000: 1.9599999999999937}\n"
     ]
    },
    {
     "data": {
      "image/png": "[encoded data removed]",
      "text/plain": [
       "<Figure size 432x288 with 1 Axes>"
      ]
     },
     "metadata": {},
     "output_type": "display_data"
    }
   ],
   "source": [
    "print(errorPerStep)\n",
    "x=[]\n",
    "y=[]\n",
    "for e in errorPerStep:\n",
    "    x.append(e)\n",
    "    y.append(errorPerStep[e])\n",
    "\n",
    "plt.xlabel(\"Training Samples\")\n",
    "plt.ylabel(\"Baseline Error (%)\")\n",
    "plt.plot(x,y,'o-')\n",
    "plt.savefig(\"test.pdf\",format=\"pdf\")"
   ]
  },
  {
   "cell_type": "markdown",
   "metadata": {},
   "source": [
    "The graph indicates clearly that the baseline error decreases with the increase of training data. In other words, the overfitting effect is limited in relation to the amount of data the learning algorithm has seen.\n",
    "\n",
    "To end the example, we will check how well the model can predict new input."
   ]
  },
  {
   "cell_type": "code",
   "execution_count": 160,
   "metadata": {},
   "outputs": [
    {
     "name": "stdout",
     "output_type": "stream",
     "text": [
      "The model predicts: 2 for the following image:\n"
     ]
    },
    {
     "data": {
      "image/png": "[encoded data removed]",
      "text/plain": [
       "<Figure size 432x288 with 1 Axes>"
      ]
     },
     "metadata": {},
     "output_type": "display_data"
    }
   ],
   "source": [
    "(X_train, y_train), (X_test, y_test) = mnist.load_data()\n",
    "\n",
    "# choose a random sample as our test image\n",
    "test_im = X_train[25]\n",
    "# display the image\n",
    "plt.imshow(test_im.reshape(28,28)*-1, cmap=plt.get_cmap('gray'), interpolation='none')\n",
    "plt.axis('off')\n",
    "\n",
    "num_pixels = X_train.shape[1] * X_train.shape[2]\n",
    "# as we are dealing with only one image, we have to restrict the array to a 1D * 784\n",
    "test_im = test_im.reshape(1, num_pixels).astype('float32')\n",
    "\n",
    "# let the model predict the image\n",
    "r=model.predict(test_im)\n",
    "\n",
    "itemindex = np.where(r[0]==1)\n",
    "print(\"The model predicts: %i for the following image:\"%itemindex[0])"
   ]
  },
  {
   "attachments": {},
   "cell_type": "markdown",
   "metadata": {},
   "source": [
    "## Accuracy and Error Rate\n",
    "\n",
    "The next cell illustrates how accuracy changes with respect to different distributions between two classes if the model always predict that an element belongs to class A.\n",
    "$$\n",
    "Accuracy=\\frac{|tp+tn|}{|tp|+|tn|+|fp|+|fn|}\\equiv\\frac{|\\mbox{correct predictions}|}{|\\mbox{predictions}|}\n",
    "$$"
   ]
  },
  {
   "cell_type": "code",
   "execution_count": 158,
   "metadata": {},
   "outputs": [
    {
     "name": "stdout",
     "output_type": "stream",
     "text": [
      "Accuracy: 0.90\n",
      "Accuracy: 0.55\n",
      "Accuracy: 0.70\n",
      "Accuracy: 0.50\n",
      "Accuracy: 0.20\n"
     ]
    },
    {
     "data": {
      "image/png": "[encoded data removed]",
      "text/plain": [
       "<Figure size 432x288 with 1 Axes>"
      ]
     },
     "metadata": {},
     "output_type": "display_data"
    }
   ],
   "source": [
    "# arrays for plotting\n",
    "x=[] # samples in A\n",
    "y=[] # samples in B\n",
    "accuracies=[] # calculated accuracies for each distribution\n",
    "\n",
    "# distributions between class A and B, first entry means 90% in A, 10% in B\n",
    "distributions=[[90,10],[55,45],[70,30],[50,50],[20,80]]\n",
    "\n",
    "for distribution in distributions:\n",
    "    x.append(distribution[0])\n",
    "    y.append(distribution[1])\n",
    "\n",
    "    samplesA=np.ones((1,distribution[0])) # membership of class A is encoded as 1\n",
    "    samplesB=np.zeros((1,distribution[1])) # membership of class B is encoded as 0\n",
    "    # combine both arrays\n",
    "    reality=np.concatenate((samplesA,samplesB),axis=None)\n",
    "    # as said above, our model always associates the elements with class A (encoded by 1)\n",
    "    prediction=np.ones((1,100))\n",
    "\n",
    "    tpCount=0\n",
    "\n",
    "    # count the true positives\n",
    "    for (i,val) in enumerate(prediction[0]):\n",
    "        if not reality[i]==val:\n",
    "            pass\n",
    "        else:\n",
    "            tpCount+=1\n",
    "            \n",
    "    # calculate the accuracy and add the to the accuracies array for later visualization\n",
    "    acc=float(tpCount+tnCount)/100.0\n",
    "    accuracies.append(acc*1000) # the multiplication by 1000 is done for visualization purposes only\n",
    "    print(\"Accuracy: %.2f\"%(acc))\n",
    "\n",
    "# plot the results as a bubble chart\n",
    "plt.xlim(0,100)\n",
    "plt.ylim(0,100)\n",
    "plt.xlabel(\"Samples in A\")\n",
    "plt.ylabel(\"Samples in B\")\n",
    "plt.title(\"Accuracy of a Always-A Predictor\")\n",
    "plt.scatter(x, y, s=accuracies*100000,alpha=0.5)\n",
    "#plt.savefig(\"test.png\",format=\"png\")\n",
    "plt.show()"
   ]
  },
  {
   "cell_type": "markdown",
   "metadata": {},
   "source": [
    "## Logarithmic Loss\n",
    "The \n",
    "$Logarithmic ~Loss=\\frac{-1}{N}\\sum_{i=1}^N\\sum_{j=1}^M y_{ij}\\log(p_{ij}) \\rightarrow [0,\\infty)$ is penalizes wrong predicitions. For the sake of simplicity, we simply use the function provided by [sklearn](http://scikit-learn.org/stable/), a machine-learning toolkit for Python.\n",
    "\n",
    "The [manual](http://scikit-learn.org/stable/modules/model_evaluation.html#log-loss) will give you more details."
   ]
  },
  {
   "cell_type": "code",
   "execution_count": 77,
   "metadata": {},
   "outputs": [
    {
     "name": "stdout",
     "output_type": "stream",
     "text": [
      "0.1390458693528553\n",
      "2.1094237467877998e-15\n"
     ]
    },
    {
     "data": {
      "text/plain": [
       "[<matplotlib.lines.Line2D at 0x1a465ceda0>]"
      ]
     },
     "execution_count": 77,
     "metadata": {},
     "output_type": "execute_result"
    },
    {
     "data": {
      "image/png": "[encoded data removed]",
      "text/plain": [
       "<Figure size 432x288 with 1 Axes>"
      ]
     },
     "metadata": {},
     "output_type": "display_data"
    }
   ],
   "source": [
    "from sklearn.metrics import log_loss\n",
    "\n",
    "# the correct cluster for each sample, i.e., sample 1 is in class 0\n",
    "y_true = [0, 0, 1, 1,2]\n",
    "# the predictions: 1st sample is 90% predicted to be in class 0\n",
    "y_pred = [[.9, .1,.0], [.8, .2,.0], [.3, .7,.0], [.01, .99,.0],[.0,.0,1.0]]\n",
    "print(log_loss(y_true, y_pred)) \n",
    "\n",
    "# perfect prediction\n",
    "y_perfect = [[1.0, .0,.0], [1.0, .0,.0], [.0, 1.0,.0], [0, 1.0,.0],[.0,.0,1.0]]\n",
    "print(log_loss(y_true, y_perfect)) \n",
    "\n",
    "x=[]\n",
    "y=[]\n",
    "# the for loop modifies the first prediction of an element belonging to class 0 from 0 to 1\n",
    "# in other words, from a wrong to a correct prediction\n",
    "for i in range(1,11):\n",
    "    r2=y_perfect\n",
    "    r2[0][0]=float(i/10)\n",
    "    x.append(r2[0][0])\n",
    "    y.append(log_loss(y_true,r2))\n",
    "\n",
    "# plot the result\n",
    "plt.xlabel(\"Predicted Probability\")\n",
    "plt.ylabel(\"Logarithmic Loss\")\n",
    "plt.title(\"Does an object of class X belong do class X?\")\n",
    "plt.plot(x,y,'o-')\n",
    "#plt.savefig(\"test.pdf\",format=\"pdf\")"
   ]
  },
  {
   "cell_type": "markdown",
   "metadata": {},
   "source": [
    "## Cross-Validation\n",
    "\n",
    "Using an exhaustive [sample use case](https://github.com/elektrobohemian/dst4l-copenhagen/blob/master/NaiveBayes.ipynb) that uses a naive Bayes classifier to determine wheter a Rotten Tomatoes critic is positive or negative, you will see how cross-validation works in practice."
   ]
  }
 ],
 "metadata": {
  "kernelspec": {
   "display_name": "Python 3",
   "language": "python",
   "name": "python3"
  },
  "language_info": {
   "codemirror_mode": {
    "name": "ipython",
    "version": 3
   },
   "file_extension": ".py",
   "mimetype": "text/x-python",
   "name": "python",
   "nbconvert_exporter": "python",
   "pygments_lexer": "ipython3",
   "version": "3.6.6"
  }
 },
 "nbformat": 4,
 "nbformat_minor": 2
}
